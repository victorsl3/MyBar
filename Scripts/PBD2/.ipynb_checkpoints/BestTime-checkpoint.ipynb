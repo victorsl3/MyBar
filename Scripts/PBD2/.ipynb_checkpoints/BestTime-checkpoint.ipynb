{
 "cells": [
  {
   "cell_type": "code",
   "execution_count": 2,
   "id": "52cd3864-6669-4d04-ac3c-c56851616507",
   "metadata": {},
   "outputs": [
    {
     "name": "stdout",
     "output_type": "stream",
     "text": [
      "{'api_key_private': 'pri_fd92b21bd6344ff38ae05b38fafb03b0', 'api_key_public': 'pub_7135961ecb5d40c285f4f93487c3e95c', 'status': 'OK', 'active': True, 'credits_forecast': 196, 'credits_query': 200, 'valid': True, 'restricted_website_public': '*', 'restricted_website_private': '*'}\n"
     ]
    }
   ],
   "source": [
    "import requests\n",
    "from datetime import datetime\n",
    "import pandas as pd\n",
    "\n",
    "api_key_private=\"pri_fd92b21bd6344ff38ae05b38fafb03b0\"\n",
    "api_key_public=\"pub_7135961ecb5d40c285f4f93487c3e95c\"\n",
    "url = \"https://besttime.app/api/v1/keys/\"+api_key_private\n",
    "\n",
    "response = requests.request(\"GET\", url)\n",
    "\n",
    "print(response.json())"
   ]
  },
  {
   "cell_type": "code",
   "execution_count": 7,
   "id": "3e1bc168-dd5d-4937-b193-3fd440c8c869",
   "metadata": {},
   "outputs": [
    {
     "name": "stdout",
     "output_type": "stream",
     "text": [
      "{'status': 'Error', 'message': 'No live data available for this venue at this moment.', 'analysis': {'venue_forecasted_busyness': 0, 'venue_live_busyness_available': False, 'venue_forecast_busyness_available': True, 'hour_start': 12, 'hour_start_12': '12PM', 'hour_end': 13, 'hour_end_12': '1PM'}, 'venue_info': {'venue_current_gmttime': 'Thursday 2022-05-19 10:49AM', 'venue_current_localtime': 'Thursday 2022-05-19 12:49PM', 'venue_id': 'ven_55575a4473554172725f6a52306751706f375f6a5079414a496843', 'venue_name': 'Lambar', 'venue_address': 'C. de Hilarión Eslava, 31 28015 Madrid Spain', 'venue_timezone': 'Europe/Madrid', 'venue_open': 'Open', 'venue_dwell_time_min': 0, 'venue_dwell_time_max': 0, 'venue_dwell_time_avg': 0, 'venue_lat': 40.4352971, 'venue_lon': -3.7168845}}\n"
     ]
    }
   ],
   "source": [
    "url = \"https://besttime.app/api/v1/forecasts\"\n",
    "\n",
    "params = {\n",
    "    'api_key_private': api_key_private,\n",
    "    'venue_name': 'Lambar',\n",
    "    'venue_address': 'C. de Hilarión Eslava, 31, 28015 Madrid'\n",
    "}\n",
    "\n",
    "response = requests.request(\"POST\", url, params=params)\n",
    "\n",
    "result=response.json()\n",
    "\n",
    "print(result)"
   ]
  },
  {
   "cell_type": "code",
   "execution_count": 6,
   "id": "7003099d-95a2-4001-8f9d-c31706c04c6c",
   "metadata": {},
   "outputs": [
    {
     "ename": "KeyError",
     "evalue": "3",
     "output_type": "error",
     "traceback": [
      "\u001b[1;31m---------------------------------------------------------------------------\u001b[0m",
      "\u001b[1;31mKeyError\u001b[0m                                  Traceback (most recent call last)",
      "\u001b[1;32m~\\AppData\\Local\\Temp/ipykernel_7984/777646106.py\u001b[0m in \u001b[0;36m<module>\u001b[1;34m\u001b[0m\n\u001b[1;32m----> 1\u001b[1;33m \u001b[0mlista\u001b[0m\u001b[1;33m=\u001b[0m\u001b[0mresult\u001b[0m\u001b[1;33m[\u001b[0m\u001b[1;34m'analysis'\u001b[0m\u001b[1;33m]\u001b[0m\u001b[1;33m[\u001b[0m\u001b[0mdatetime\u001b[0m\u001b[1;33m.\u001b[0m\u001b[0mtoday\u001b[0m\u001b[1;33m(\u001b[0m\u001b[1;33m)\u001b[0m\u001b[1;33m.\u001b[0m\u001b[0mweekday\u001b[0m\u001b[1;33m(\u001b[0m\u001b[1;33m)\u001b[0m\u001b[1;33m]\u001b[0m\u001b[1;33m[\u001b[0m\u001b[1;34m'hour_analysis'\u001b[0m\u001b[1;33m]\u001b[0m\u001b[1;33m\u001b[0m\u001b[1;33m\u001b[0m\u001b[0m\n\u001b[0m\u001b[0;32m      2\u001b[0m \u001b[0mhoras\u001b[0m\u001b[1;33m=\u001b[0m\u001b[1;33m[\u001b[0m\u001b[1;33m]\u001b[0m\u001b[1;33m\u001b[0m\u001b[1;33m\u001b[0m\u001b[0m\n\u001b[0;32m      3\u001b[0m \u001b[0mestado_aforo\u001b[0m\u001b[1;33m=\u001b[0m\u001b[1;33m[\u001b[0m\u001b[1;33m]\u001b[0m\u001b[1;33m\u001b[0m\u001b[1;33m\u001b[0m\u001b[0m\n\u001b[0;32m      4\u001b[0m \u001b[1;32mfor\u001b[0m \u001b[0mn\u001b[0m \u001b[1;32min\u001b[0m \u001b[0mlista\u001b[0m\u001b[1;33m:\u001b[0m\u001b[1;33m\u001b[0m\u001b[1;33m\u001b[0m\u001b[0m\n\u001b[0;32m      5\u001b[0m     \u001b[0mhoras\u001b[0m\u001b[1;33m.\u001b[0m\u001b[0mappend\u001b[0m\u001b[1;33m(\u001b[0m\u001b[0mn\u001b[0m\u001b[1;33m[\u001b[0m\u001b[1;34m'hour'\u001b[0m\u001b[1;33m]\u001b[0m\u001b[1;33m)\u001b[0m\u001b[1;33m\u001b[0m\u001b[1;33m\u001b[0m\u001b[0m\n",
      "\u001b[1;31mKeyError\u001b[0m: 3"
     ]
    }
   ],
   "source": [
    "lista=result['analysis'][datetime.today().weekday()]['hour_analysis']\n",
    "horas=[]\n",
    "estado_aforo=[]\n",
    "for n in lista:\n",
    "    horas.append(n['hour'])\n",
    "    estado_aforo.append(n['intensity_txt'])\n",
    "\n",
    "aforos=pd.DataFrame(data={\"aforo\":estado_aforo}, index=horas)\n",
    "aforos"
   ]
  },
  {
   "cell_type": "code",
   "execution_count": null,
   "id": "0db09903-ca59-44cd-82c6-858c7bf82a94",
   "metadata": {},
   "outputs": [],
   "source": []
  },
  {
   "cell_type": "code",
   "execution_count": null,
   "id": "81a00aac-750e-43ff-8771-5cb8079d8455",
   "metadata": {},
   "outputs": [],
   "source": []
  }
 ],
 "metadata": {
  "kernelspec": {
   "display_name": "Python 3 (ipykernel)",
   "language": "python",
   "name": "python3"
  },
  "language_info": {
   "codemirror_mode": {
    "name": "ipython",
    "version": 3
   },
   "file_extension": ".py",
   "mimetype": "text/x-python",
   "name": "python",
   "nbconvert_exporter": "python",
   "pygments_lexer": "ipython3",
   "version": "3.8.12"
  }
 },
 "nbformat": 4,
 "nbformat_minor": 5
}
