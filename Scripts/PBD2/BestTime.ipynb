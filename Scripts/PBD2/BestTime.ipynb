{
 "cells": [
  {
   "cell_type": "code",
   "execution_count": 1,
   "id": "52cd3864-6669-4d04-ac3c-c56851616507",
   "metadata": {},
   "outputs": [
    {
     "name": "stdout",
     "output_type": "stream",
     "text": [
      "{'api_key_private': 'pri_fd92b21bd6344ff38ae05b38fafb03b0', 'api_key_public': 'pub_7135961ecb5d40c285f4f93487c3e95c', 'status': 'OK', 'active': True, 'credits_forecast': 182, 'credits_query': 200, 'valid': True, 'restricted_website_public': '*', 'restricted_website_private': '*'}\n"
     ]
    }
   ],
   "source": [
    "import requests\n",
    "from datetime import datetime\n",
    "import pandas as pd\n",
    "\n",
    "api_key_private=\"pri_fd92b21bd6344ff38ae05b38fafb03b0\"\n",
    "api_key_public=\"pub_7135961ecb5d40c285f4f93487c3e95c\"\n",
    "url = \"https://besttime.app/api/v1/keys/\"+api_key_private\n",
    "\n",
    "response = requests.request(\"GET\", url)\n",
    "\n",
    "print(response.json())"
   ]
  },
  {
   "cell_type": "code",
   "execution_count": 2,
   "id": "3e1bc168-dd5d-4937-b193-3fd440c8c869",
   "metadata": {},
   "outputs": [
    {
     "name": "stdout",
     "output_type": "stream",
     "text": [
      "{'status': 'OK', 'epoch_analysis': '1654010064', 'venue_info': {'venue_id': 'ven_55575a4473554172725f6a52306751706f375f6a5079414a496843', 'venue_name': 'Lambar', 'venue_address': 'C. de Hilarión Eslava, 31 28015 Madrid Spain', 'venue_address_list': ['C. de Hilarión Eslava, 31', '28015 Madrid', 'Spain'], 'venue_timezone': 'Europe/Madrid', 'venue_dwell_time_min': 0, 'venue_dwell_time_max': 0, 'venue_dwell_time_avg': 0, 'venue_type': 'BAR', 'venue_types': ['bar'], 'venue_lat': 40.4352971, 'venue_lon': -3.7168845}, 'analysis': [{'day_info': {'day_int': 0, 'day_text': 'Monday', 'venue_open': 18, 'venue_closed': 2, 'day_rank_mean': 7, 'day_rank_max': 7, 'day_mean': 7, 'day_max': 11}, 'busy_hours': [], 'quiet_hours': [18, 19, 20, 21, 22, 23, 0, 1, 2], 'peak_hours': [], 'surge_hours': {'most_people_come': 19, 'most_people_leave': 1}, 'hour_analysis': [{'hour': 6, 'intensity_txt': 'Closed', 'intensity_nr': '999'}, {'hour': 7, 'intensity_txt': 'Closed', 'intensity_nr': '999'}, {'hour': 8, 'intensity_txt': 'Closed', 'intensity_nr': '999'}, {'hour': 9, 'intensity_txt': 'Closed', 'intensity_nr': '999'}, {'hour': 10, 'intensity_txt': 'Closed', 'intensity_nr': '999'}, {'hour': 11, 'intensity_txt': 'Closed', 'intensity_nr': '999'}, {'hour': 12, 'intensity_txt': 'Closed', 'intensity_nr': '999'}, {'hour': 13, 'intensity_txt': 'Closed', 'intensity_nr': '999'}, {'hour': 14, 'intensity_txt': 'Closed', 'intensity_nr': '999'}, {'hour': 15, 'intensity_txt': 'Closed', 'intensity_nr': '999'}, {'hour': 16, 'intensity_txt': 'Closed', 'intensity_nr': '999'}, {'hour': 17, 'intensity_txt': 'Closed', 'intensity_nr': '999'}, {'hour': 18, 'intensity_txt': 'Low', 'intensity_nr': -2}, {'hour': 19, 'intensity_txt': 'Low', 'intensity_nr': -2}, {'hour': 20, 'intensity_txt': 'Low', 'intensity_nr': -2}, {'hour': 21, 'intensity_txt': 'Low', 'intensity_nr': -2}, {'hour': 22, 'intensity_txt': 'Low', 'intensity_nr': -2}, {'hour': 23, 'intensity_txt': 'Low', 'intensity_nr': -2}, {'hour': 0, 'intensity_txt': 'Low', 'intensity_nr': -2}, {'hour': 1, 'intensity_txt': 'Low', 'intensity_nr': -2}, {'hour': 2, 'intensity_txt': 'Low', 'intensity_nr': -2}, {'hour': 3, 'intensity_txt': 'Closed', 'intensity_nr': '999'}, {'hour': 4, 'intensity_txt': 'Closed', 'intensity_nr': '999'}, {'hour': 5, 'intensity_txt': 'Closed', 'intensity_nr': '999'}], 'day_raw': [0, 0, 0, 0, 0, 0, 0, 0, 0, 0, 0, 0, 5, 5, 10, 10, 10, 10, 5, 5, 0, 0, 0, 0]}, {'day_info': {'day_int': 1, 'day_text': 'Tuesday', 'venue_open': 18, 'venue_closed': 2, 'day_rank_mean': 5, 'day_rank_max': 5, 'day_mean': 16, 'day_max': 27}, 'busy_hours': [], 'quiet_hours': [18, 19, 20, 0, 1, 2], 'peak_hours': [], 'surge_hours': {'most_people_come': 19, 'most_people_leave': 0}, 'hour_analysis': [{'hour': 6, 'intensity_txt': 'Closed', 'intensity_nr': '999'}, {'hour': 7, 'intensity_txt': 'Closed', 'intensity_nr': '999'}, {'hour': 8, 'intensity_txt': 'Closed', 'intensity_nr': '999'}, {'hour': 9, 'intensity_txt': 'Closed', 'intensity_nr': '999'}, {'hour': 10, 'intensity_txt': 'Closed', 'intensity_nr': '999'}, {'hour': 11, 'intensity_txt': 'Closed', 'intensity_nr': '999'}, {'hour': 12, 'intensity_txt': 'Closed', 'intensity_nr': '999'}, {'hour': 13, 'intensity_txt': 'Closed', 'intensity_nr': '999'}, {'hour': 14, 'intensity_txt': 'Closed', 'intensity_nr': '999'}, {'hour': 15, 'intensity_txt': 'Closed', 'intensity_nr': '999'}, {'hour': 16, 'intensity_txt': 'Closed', 'intensity_nr': '999'}, {'hour': 17, 'intensity_txt': 'Closed', 'intensity_nr': '999'}, {'hour': 18, 'intensity_txt': 'Low', 'intensity_nr': -2}, {'hour': 19, 'intensity_txt': 'Low', 'intensity_nr': -2}, {'hour': 20, 'intensity_txt': 'Low', 'intensity_nr': -2}, {'hour': 21, 'intensity_txt': 'Average', 'intensity_nr': 0}, {'hour': 22, 'intensity_txt': 'Average', 'intensity_nr': 0}, {'hour': 23, 'intensity_txt': 'Average', 'intensity_nr': 0}, {'hour': 0, 'intensity_txt': 'Low', 'intensity_nr': -2}, {'hour': 1, 'intensity_txt': 'Low', 'intensity_nr': -2}, {'hour': 2, 'intensity_txt': 'Low', 'intensity_nr': -2}, {'hour': 3, 'intensity_txt': 'Closed', 'intensity_nr': '999'}, {'hour': 4, 'intensity_txt': 'Closed', 'intensity_nr': '999'}, {'hour': 5, 'intensity_txt': 'Closed', 'intensity_nr': '999'}], 'day_raw': [0, 0, 0, 0, 0, 0, 0, 0, 0, 0, 0, 0, 5, 10, 20, 25, 25, 25, 15, 5, 0, 0, 0, 0]}, {'day_info': {'day_int': 2, 'day_text': 'Wednesday', 'venue_open': 18, 'venue_closed': 2, 'day_rank_mean': 4, 'day_rank_max': 4, 'day_mean': 28, 'day_max': 39}, 'busy_hours': [], 'quiet_hours': [18, 19, 1, 2], 'peak_hours': [], 'surge_hours': {'most_people_come': 19, 'most_people_leave': 1}, 'hour_analysis': [{'hour': 6, 'intensity_txt': 'Closed', 'intensity_nr': '999'}, {'hour': 7, 'intensity_txt': 'Closed', 'intensity_nr': '999'}, {'hour': 8, 'intensity_txt': 'Closed', 'intensity_nr': '999'}, {'hour': 9, 'intensity_txt': 'Closed', 'intensity_nr': '999'}, {'hour': 10, 'intensity_txt': 'Closed', 'intensity_nr': '999'}, {'hour': 11, 'intensity_txt': 'Closed', 'intensity_nr': '999'}, {'hour': 12, 'intensity_txt': 'Closed', 'intensity_nr': '999'}, {'hour': 13, 'intensity_txt': 'Closed', 'intensity_nr': '999'}, {'hour': 14, 'intensity_txt': 'Closed', 'intensity_nr': '999'}, {'hour': 15, 'intensity_txt': 'Closed', 'intensity_nr': '999'}, {'hour': 16, 'intensity_txt': 'Closed', 'intensity_nr': '999'}, {'hour': 17, 'intensity_txt': 'Closed', 'intensity_nr': '999'}, {'hour': 18, 'intensity_txt': 'Low', 'intensity_nr': -2}, {'hour': 19, 'intensity_txt': 'Low', 'intensity_nr': -2}, {'hour': 20, 'intensity_txt': 'Average', 'intensity_nr': 0}, {'hour': 21, 'intensity_txt': 'Average', 'intensity_nr': 0}, {'hour': 22, 'intensity_txt': 'Average', 'intensity_nr': 0}, {'hour': 23, 'intensity_txt': 'Average', 'intensity_nr': 0}, {'hour': 0, 'intensity_txt': 'Average', 'intensity_nr': 0}, {'hour': 1, 'intensity_txt': 'Low', 'intensity_nr': -2}, {'hour': 2, 'intensity_txt': 'Low', 'intensity_nr': -2}, {'hour': 3, 'intensity_txt': 'Closed', 'intensity_nr': '999'}, {'hour': 4, 'intensity_txt': 'Closed', 'intensity_nr': '999'}, {'hour': 5, 'intensity_txt': 'Closed', 'intensity_nr': '999'}], 'day_raw': [0, 0, 0, 0, 0, 0, 0, 0, 0, 0, 0, 0, 5, 20, 30, 35, 35, 40, 35, 20, 0, 0, 0, 0]}, {'day_info': {'day_int': 3, 'day_text': 'Thursday', 'venue_open': 18, 'venue_closed': 2, 'day_rank_mean': 3, 'day_rank_max': 3, 'day_mean': 51, 'day_max': 68}, 'busy_hours': [20, 21, 22, 23, 0], 'quiet_hours': [18, 2], 'peak_hours': [{'peak_start': 19, 'peak_max': 22, 'peak_end': 1, 'peak_intensity': 3, 'peak_delta_mean_week': 33}], 'surge_hours': {'most_people_come': 19, 'most_people_leave': 1}, 'hour_analysis': [{'hour': 6, 'intensity_txt': 'Closed', 'intensity_nr': '999'}, {'hour': 7, 'intensity_txt': 'Closed', 'intensity_nr': '999'}, {'hour': 8, 'intensity_txt': 'Closed', 'intensity_nr': '999'}, {'hour': 9, 'intensity_txt': 'Closed', 'intensity_nr': '999'}, {'hour': 10, 'intensity_txt': 'Closed', 'intensity_nr': '999'}, {'hour': 11, 'intensity_txt': 'Closed', 'intensity_nr': '999'}, {'hour': 12, 'intensity_txt': 'Closed', 'intensity_nr': '999'}, {'hour': 13, 'intensity_txt': 'Closed', 'intensity_nr': '999'}, {'hour': 14, 'intensity_txt': 'Closed', 'intensity_nr': '999'}, {'hour': 15, 'intensity_txt': 'Closed', 'intensity_nr': '999'}, {'hour': 16, 'intensity_txt': 'Closed', 'intensity_nr': '999'}, {'hour': 17, 'intensity_txt': 'Closed', 'intensity_nr': '999'}, {'hour': 18, 'intensity_txt': 'Low', 'intensity_nr': -2}, {'hour': 19, 'intensity_txt': 'Average', 'intensity_nr': 0}, {'hour': 20, 'intensity_txt': 'Above average', 'intensity_nr': 1}, {'hour': 21, 'intensity_txt': 'Above average', 'intensity_nr': 1}, {'hour': 22, 'intensity_txt': 'Above average', 'intensity_nr': 1}, {'hour': 23, 'intensity_txt': 'Above average', 'intensity_nr': 1}, {'hour': 0, 'intensity_txt': 'Above average', 'intensity_nr': 1}, {'hour': 1, 'intensity_txt': 'Average', 'intensity_nr': 0}, {'hour': 2, 'intensity_txt': 'Low', 'intensity_nr': -2}, {'hour': 3, 'intensity_txt': 'Closed', 'intensity_nr': '999'}, {'hour': 4, 'intensity_txt': 'Closed', 'intensity_nr': '999'}, {'hour': 5, 'intensity_txt': 'Closed', 'intensity_nr': '999'}], 'day_raw': [0, 0, 0, 0, 0, 0, 0, 0, 0, 0, 0, 0, 15, 35, 55, 65, 70, 65, 60, 40, 0, 0, 0, 0]}, {'day_info': {'day_int': 4, 'day_text': 'Friday', 'venue_open': 18, 'venue_closed': 3, 'day_rank_mean': 1, 'day_rank_max': 1, 'day_mean': 72, 'day_max': 100}, 'busy_hours': [19, 20, 21, 22, 23, 0, 1], 'quiet_hours': [3], 'peak_hours': [{'peak_start': 18, 'peak_max': 0, 'peak_end': 2, 'peak_intensity': 5, 'peak_delta_mean_week': 65}], 'surge_hours': {'most_people_come': 19, 'most_people_leave': 2}, 'hour_analysis': [{'hour': 6, 'intensity_txt': 'Closed', 'intensity_nr': '999'}, {'hour': 7, 'intensity_txt': 'Closed', 'intensity_nr': '999'}, {'hour': 8, 'intensity_txt': 'Closed', 'intensity_nr': '999'}, {'hour': 9, 'intensity_txt': 'Closed', 'intensity_nr': '999'}, {'hour': 10, 'intensity_txt': 'Closed', 'intensity_nr': '999'}, {'hour': 11, 'intensity_txt': 'Closed', 'intensity_nr': '999'}, {'hour': 12, 'intensity_txt': 'Closed', 'intensity_nr': '999'}, {'hour': 13, 'intensity_txt': 'Closed', 'intensity_nr': '999'}, {'hour': 14, 'intensity_txt': 'Closed', 'intensity_nr': '999'}, {'hour': 15, 'intensity_txt': 'Closed', 'intensity_nr': '999'}, {'hour': 16, 'intensity_txt': 'Closed', 'intensity_nr': '999'}, {'hour': 17, 'intensity_txt': 'Closed', 'intensity_nr': '999'}, {'hour': 18, 'intensity_txt': 'Average', 'intensity_nr': 0}, {'hour': 19, 'intensity_txt': 'Above average', 'intensity_nr': 1}, {'hour': 20, 'intensity_txt': 'Above average', 'intensity_nr': 1}, {'hour': 21, 'intensity_txt': 'High', 'intensity_nr': 2}, {'hour': 22, 'intensity_txt': 'High', 'intensity_nr': 2}, {'hour': 23, 'intensity_txt': 'High', 'intensity_nr': 2}, {'hour': 0, 'intensity_txt': 'High', 'intensity_nr': 2}, {'hour': 1, 'intensity_txt': 'Above average', 'intensity_nr': 1}, {'hour': 2, 'intensity_txt': 'Average', 'intensity_nr': 0}, {'hour': 3, 'intensity_txt': 'Low', 'intensity_nr': -2}, {'hour': 4, 'intensity_txt': 'Closed', 'intensity_nr': '999'}, {'hour': 5, 'intensity_txt': 'Closed', 'intensity_nr': '999'}], 'day_raw': [0, 0, 0, 0, 0, 0, 0, 0, 0, 0, 0, 0, 25, 50, 75, 85, 90, 100, 100, 75, 40, 0, 0, 0]}, {'day_info': {'day_int': 5, 'day_text': 'Saturday', 'venue_open': 18, 'venue_closed': 3, 'day_rank_mean': 2, 'day_rank_max': 2, 'day_mean': 52, 'day_max': 85}, 'busy_hours': [21, 22, 23, 0, 1], 'quiet_hours': [18, 3], 'peak_hours': [{'peak_start': 19, 'peak_max': 23, 'peak_end': 2, 'peak_intensity': 4, 'peak_delta_mean_week': 50}], 'surge_hours': {'most_people_come': 19, 'most_people_leave': 2}, 'hour_analysis': [{'hour': 6, 'intensity_txt': 'Closed', 'intensity_nr': '999'}, {'hour': 7, 'intensity_txt': 'Closed', 'intensity_nr': '999'}, {'hour': 8, 'intensity_txt': 'Closed', 'intensity_nr': '999'}, {'hour': 9, 'intensity_txt': 'Closed', 'intensity_nr': '999'}, {'hour': 10, 'intensity_txt': 'Closed', 'intensity_nr': '999'}, {'hour': 11, 'intensity_txt': 'Closed', 'intensity_nr': '999'}, {'hour': 12, 'intensity_txt': 'Closed', 'intensity_nr': '999'}, {'hour': 13, 'intensity_txt': 'Closed', 'intensity_nr': '999'}, {'hour': 14, 'intensity_txt': 'Closed', 'intensity_nr': '999'}, {'hour': 15, 'intensity_txt': 'Closed', 'intensity_nr': '999'}, {'hour': 16, 'intensity_txt': 'Closed', 'intensity_nr': '999'}, {'hour': 17, 'intensity_txt': 'Closed', 'intensity_nr': '999'}, {'hour': 18, 'intensity_txt': 'Low', 'intensity_nr': -2}, {'hour': 19, 'intensity_txt': 'Average', 'intensity_nr': 0}, {'hour': 20, 'intensity_txt': 'Average', 'intensity_nr': 0}, {'hour': 21, 'intensity_txt': 'Above average', 'intensity_nr': 1}, {'hour': 22, 'intensity_txt': 'Above average', 'intensity_nr': 1}, {'hour': 23, 'intensity_txt': 'High', 'intensity_nr': 2}, {'hour': 0, 'intensity_txt': 'High', 'intensity_nr': 2}, {'hour': 1, 'intensity_txt': 'Above average', 'intensity_nr': 1}, {'hour': 2, 'intensity_txt': 'Average', 'intensity_nr': 0}, {'hour': 3, 'intensity_txt': 'Low', 'intensity_nr': -2}, {'hour': 4, 'intensity_txt': 'Closed', 'intensity_nr': '999'}, {'hour': 5, 'intensity_txt': 'Closed', 'intensity_nr': '999'}], 'day_raw': [0, 0, 0, 0, 0, 0, 0, 0, 0, 0, 0, 0, 5, 25, 50, 60, 75, 85, 80, 60, 30, 0, 0, 0]}, {'day_info': {'day_int': 6, 'day_text': 'Sunday', 'venue_open': 18, 'venue_closed': 2, 'day_rank_mean': 6, 'day_rank_max': 6, 'day_mean': 13, 'day_max': 21}, 'busy_hours': [], 'quiet_hours': [18, 19, 21, 22, 23, 0, 1, 2], 'peak_hours': [], 'surge_hours': {'most_people_come': 18, 'most_people_leave': 1}, 'hour_analysis': [{'hour': 6, 'intensity_txt': 'Closed', 'intensity_nr': '999'}, {'hour': 7, 'intensity_txt': 'Closed', 'intensity_nr': '999'}, {'hour': 8, 'intensity_txt': 'Closed', 'intensity_nr': '999'}, {'hour': 9, 'intensity_txt': 'Closed', 'intensity_nr': '999'}, {'hour': 10, 'intensity_txt': 'Closed', 'intensity_nr': '999'}, {'hour': 11, 'intensity_txt': 'Closed', 'intensity_nr': '999'}, {'hour': 12, 'intensity_txt': 'Closed', 'intensity_nr': '999'}, {'hour': 13, 'intensity_txt': 'Closed', 'intensity_nr': '999'}, {'hour': 14, 'intensity_txt': 'Closed', 'intensity_nr': '999'}, {'hour': 15, 'intensity_txt': 'Closed', 'intensity_nr': '999'}, {'hour': 16, 'intensity_txt': 'Closed', 'intensity_nr': '999'}, {'hour': 17, 'intensity_txt': 'Closed', 'intensity_nr': '999'}, {'hour': 18, 'intensity_txt': 'Low', 'intensity_nr': -2}, {'hour': 19, 'intensity_txt': 'Low', 'intensity_nr': -2}, {'hour': 20, 'intensity_txt': 'Average', 'intensity_nr': 0}, {'hour': 21, 'intensity_txt': 'Low', 'intensity_nr': -2}, {'hour': 22, 'intensity_txt': 'Low', 'intensity_nr': -2}, {'hour': 23, 'intensity_txt': 'Low', 'intensity_nr': -2}, {'hour': 0, 'intensity_txt': 'Low', 'intensity_nr': -2}, {'hour': 1, 'intensity_txt': 'Low', 'intensity_nr': -2}, {'hour': 2, 'intensity_txt': 'Low', 'intensity_nr': -2}, {'hour': 3, 'intensity_txt': 'Closed', 'intensity_nr': '999'}, {'hour': 4, 'intensity_txt': 'Closed', 'intensity_nr': '999'}, {'hour': 5, 'intensity_txt': 'Closed', 'intensity_nr': '999'}], 'day_raw': [0, 0, 0, 0, 0, 0, 0, 0, 0, 0, 0, 0, 5, 15, 20, 15, 10, 15, 15, 5, 0, 0, 0, 0]}], 'api_key_private': 'pri_fd92b21bd6344ff38ae05b38fafb03b0'}\n"
     ]
    }
   ],
   "source": [
    "url = \"https://besttime.app/api/v1/forecasts\"\n",
    "\n",
    "params = {\n",
    "    'api_key_private': api_key_private,\n",
    "    'venue_name': 'Lambar',\n",
    "    'venue_address': 'C. de Hilarión Eslava, 31, 28015 Madrid'\n",
    "}\n",
    "\n",
    "response = requests.request(\"POST\", url, params=params)\n",
    "\n",
    "result=response.json()\n",
    "\n",
    "print(result)"
   ]
  },
  {
   "cell_type": "code",
   "execution_count": 5,
   "id": "dcb696ff-6e38-4521-a17d-ff8e0b62edbe",
   "metadata": {},
   "outputs": [
    {
     "data": {
      "text/plain": [
       "'Average'"
      ]
     },
     "execution_count": 5,
     "metadata": {},
     "output_type": "execute_result"
    }
   ],
   "source": [
    "result['analysis'][datetime.today().weekday()]['hour_analysis'][datetime.now().hour]['intensity_txt']"
   ]
  },
  {
   "cell_type": "code",
   "execution_count": 3,
   "id": "7003099d-95a2-4001-8f9d-c31706c04c6c",
   "metadata": {},
   "outputs": [
    {
     "data": {
      "text/html": [
       "<div>\n",
       "<style scoped>\n",
       "    .dataframe tbody tr th:only-of-type {\n",
       "        vertical-align: middle;\n",
       "    }\n",
       "\n",
       "    .dataframe tbody tr th {\n",
       "        vertical-align: top;\n",
       "    }\n",
       "\n",
       "    .dataframe thead th {\n",
       "        text-align: right;\n",
       "    }\n",
       "</style>\n",
       "<table border=\"1\" class=\"dataframe\">\n",
       "  <thead>\n",
       "    <tr style=\"text-align: right;\">\n",
       "      <th></th>\n",
       "      <th>aforo</th>\n",
       "    </tr>\n",
       "  </thead>\n",
       "  <tbody>\n",
       "    <tr>\n",
       "      <th>0</th>\n",
       "      <td>Low</td>\n",
       "    </tr>\n",
       "    <tr>\n",
       "      <th>1</th>\n",
       "      <td>Low</td>\n",
       "    </tr>\n",
       "    <tr>\n",
       "      <th>2</th>\n",
       "      <td>Low</td>\n",
       "    </tr>\n",
       "    <tr>\n",
       "      <th>3</th>\n",
       "      <td>Closed</td>\n",
       "    </tr>\n",
       "    <tr>\n",
       "      <th>4</th>\n",
       "      <td>Closed</td>\n",
       "    </tr>\n",
       "    <tr>\n",
       "      <th>5</th>\n",
       "      <td>Closed</td>\n",
       "    </tr>\n",
       "    <tr>\n",
       "      <th>6</th>\n",
       "      <td>Closed</td>\n",
       "    </tr>\n",
       "    <tr>\n",
       "      <th>7</th>\n",
       "      <td>Closed</td>\n",
       "    </tr>\n",
       "    <tr>\n",
       "      <th>8</th>\n",
       "      <td>Closed</td>\n",
       "    </tr>\n",
       "    <tr>\n",
       "      <th>9</th>\n",
       "      <td>Closed</td>\n",
       "    </tr>\n",
       "    <tr>\n",
       "      <th>10</th>\n",
       "      <td>Closed</td>\n",
       "    </tr>\n",
       "    <tr>\n",
       "      <th>11</th>\n",
       "      <td>Closed</td>\n",
       "    </tr>\n",
       "    <tr>\n",
       "      <th>12</th>\n",
       "      <td>Closed</td>\n",
       "    </tr>\n",
       "    <tr>\n",
       "      <th>13</th>\n",
       "      <td>Closed</td>\n",
       "    </tr>\n",
       "    <tr>\n",
       "      <th>14</th>\n",
       "      <td>Closed</td>\n",
       "    </tr>\n",
       "    <tr>\n",
       "      <th>15</th>\n",
       "      <td>Closed</td>\n",
       "    </tr>\n",
       "    <tr>\n",
       "      <th>16</th>\n",
       "      <td>Closed</td>\n",
       "    </tr>\n",
       "    <tr>\n",
       "      <th>17</th>\n",
       "      <td>Closed</td>\n",
       "    </tr>\n",
       "    <tr>\n",
       "      <th>18</th>\n",
       "      <td>Low</td>\n",
       "    </tr>\n",
       "    <tr>\n",
       "      <th>19</th>\n",
       "      <td>Low</td>\n",
       "    </tr>\n",
       "    <tr>\n",
       "      <th>20</th>\n",
       "      <td>Low</td>\n",
       "    </tr>\n",
       "    <tr>\n",
       "      <th>21</th>\n",
       "      <td>Average</td>\n",
       "    </tr>\n",
       "    <tr>\n",
       "      <th>22</th>\n",
       "      <td>Average</td>\n",
       "    </tr>\n",
       "    <tr>\n",
       "      <th>23</th>\n",
       "      <td>Average</td>\n",
       "    </tr>\n",
       "  </tbody>\n",
       "</table>\n",
       "</div>"
      ],
      "text/plain": [
       "      aforo\n",
       "0       Low\n",
       "1       Low\n",
       "2       Low\n",
       "3    Closed\n",
       "4    Closed\n",
       "5    Closed\n",
       "6    Closed\n",
       "7    Closed\n",
       "8    Closed\n",
       "9    Closed\n",
       "10   Closed\n",
       "11   Closed\n",
       "12   Closed\n",
       "13   Closed\n",
       "14   Closed\n",
       "15   Closed\n",
       "16   Closed\n",
       "17   Closed\n",
       "18      Low\n",
       "19      Low\n",
       "20      Low\n",
       "21  Average\n",
       "22  Average\n",
       "23  Average"
      ]
     },
     "execution_count": 3,
     "metadata": {},
     "output_type": "execute_result"
    }
   ],
   "source": [
    "lista=result['analysis'][datetime.today().weekday()]['hour_analysis']\n",
    "horas=[]\n",
    "estado_aforo=[]\n",
    "for n in lista:\n",
    "    horas.append(n['hour'])\n",
    "    estado_aforo.append(n['intensity_txt'])\n",
    "\n",
    "aforos=pd.DataFrame(data={\"aforo\":estado_aforo}, index=horas).sort_index()\n",
    "aforos"
   ]
  },
  {
   "cell_type": "code",
   "execution_count": null,
   "id": "0db09903-ca59-44cd-82c6-858c7bf82a94",
   "metadata": {},
   "outputs": [],
   "source": []
  },
  {
   "cell_type": "code",
   "execution_count": null,
   "id": "81a00aac-750e-43ff-8771-5cb8079d8455",
   "metadata": {},
   "outputs": [],
   "source": []
  }
 ],
 "metadata": {
  "kernelspec": {
   "display_name": "Python 3 (ipykernel)",
   "language": "python",
   "name": "python3"
  },
  "language_info": {
   "codemirror_mode": {
    "name": "ipython",
    "version": 3
   },
   "file_extension": ".py",
   "mimetype": "text/x-python",
   "name": "python",
   "nbconvert_exporter": "python",
   "pygments_lexer": "ipython3",
   "version": "3.8.13"
  }
 },
 "nbformat": 4,
 "nbformat_minor": 5
}
