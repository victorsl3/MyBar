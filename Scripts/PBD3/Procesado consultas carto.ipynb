{
 "cells": [
  {
   "cell_type": "code",
   "execution_count": 2,
   "id": "7854f365-14fb-4052-8a49-4f99eed1e86b",
   "metadata": {},
   "outputs": [],
   "source": [
    "import pandas as pd"
   ]
  },
  {
   "cell_type": "code",
   "execution_count": 10,
   "id": "0d57a51f-e75a-434e-8c78-9fdfe72b5c70",
   "metadata": {},
   "outputs": [],
   "source": [
    "datos = pd.read_csv('consulta (2).csv')"
   ]
  },
  {
   "cell_type": "code",
   "execution_count": 15,
   "id": "9beadeb0-b062-4199-aa38-55d1f7e9fcf1",
   "metadata": {},
   "outputs": [],
   "source": [
    "datos['FECHA']=datos['Times'].str.slice(0, 10)\n",
    "datos['HORA']=datos['Times'].str.slice(11, 16)"
   ]
  },
  {
   "cell_type": "code",
   "execution_count": 17,
   "id": "4c46177c-5e20-4543-8ddd-2228a127837a",
   "metadata": {},
   "outputs": [],
   "source": [
    "datos.to_csv(\"consulta (2).csv\",sep=\",\")"
   ]
  }
 ],
 "metadata": {
  "kernelspec": {
   "display_name": "Python 3 (ipykernel)",
   "language": "python",
   "name": "python3"
  },
  "language_info": {
   "codemirror_mode": {
    "name": "ipython",
    "version": 3
   },
   "file_extension": ".py",
   "mimetype": "text/x-python",
   "name": "python",
   "nbconvert_exporter": "python",
   "pygments_lexer": "ipython3",
   "version": "3.8.13"
  }
 },
 "nbformat": 4,
 "nbformat_minor": 5
}
