{
 "cells": [
  {
   "cell_type": "markdown",
   "id": "151c19b9-3efb-4752-adb0-12ee786d5f2e",
   "metadata": {},
   "source": [
    "# Importación de librerías y datos"
   ]
  },
  {
   "cell_type": "markdown",
   "id": "ebb8c41c-83a9-40c8-abda-d96874bda212",
   "metadata": {},
   "source": [
    "## Librerías"
   ]
  },
  {
   "cell_type": "code",
   "execution_count": 49,
   "id": "866b39c1-a9af-4cb0-bc59-bd2f23b778ee",
   "metadata": {},
   "outputs": [],
   "source": [
    "# Tratamiento de datos\n",
    "# ==============================================================================\n",
    "import numpy as np\n",
    "import pandas as pd\n",
    "\n",
    "# Gráficos\n",
    "# ==============================================================================\n",
    "import matplotlib.pyplot as plt\n",
    "plt.style.use('fivethirtyeight')\n",
    "plt.rcParams['lines.linewidth'] = 1.5\n",
    "%matplotlib inline\n",
    "import seaborn as sns\n",
    "\n",
    "# Configuración warnings\n",
    "# ==============================================================================\n",
    "import warnings\n",
    "#warnings.filterwarnings('ignore')\n",
    "\n",
    "# Fechas\n",
    "import calendar\n",
    "\n",
    "\n",
    "import locale"
   ]
  },
  {
   "cell_type": "code",
   "execution_count": 2,
   "id": "866f206d-0c9a-418f-bcb7-74fe0d612d7d",
   "metadata": {},
   "outputs": [],
   "source": [
    "# Modelado\n",
    "# ==============================================================================\n",
    "from sklearn.model_selection import train_test_split\n",
    "from sklearn.ensemble import RandomForestRegressor\n",
    "from sklearn.tree import export_graphviz\n",
    "import pydot\n",
    "\n",
    "\n",
    "from joblib import dump, load"
   ]
  },
  {
   "cell_type": "markdown",
   "id": "40d47a77-baaf-4554-a626-36f5628d93de",
   "metadata": {},
   "source": [
    "## Carga de datos"
   ]
  },
  {
   "cell_type": "code",
   "execution_count": 3,
   "id": "8f3661f8-8e5f-42f1-9fa0-46ba776e5742",
   "metadata": {},
   "outputs": [],
   "source": [
    "datos_2021 = pd.read_csv('PEATONES_2021.csv', sep=';')\n",
    "\n",
    "datos_2020 = pd.read_csv('PEATONES_2020.csv', sep=';')\n",
    "\n",
    "datos_2019 = pd.read_csv('PEATONES_2019.csv', sep=';')\n",
    "\n",
    "datos=pd.concat([datos_2021, datos_2020,datos_2019])"
   ]
  },
  {
   "cell_type": "code",
   "execution_count": 40,
   "id": "9dc23c30-4f24-4411-8544-af65719225a9",
   "metadata": {},
   "outputs": [
    {
     "data": {
      "text/plain": [
       "3660768"
      ]
     },
     "execution_count": 40,
     "metadata": {},
     "output_type": "execute_result"
    }
   ],
   "source": [
    "datos.size"
   ]
  },
  {
   "cell_type": "code",
   "execution_count": 41,
   "id": "d7824855-32cb-448f-9f6d-99e45d200485",
   "metadata": {},
   "outputs": [
    {
     "data": {
      "text/html": [
       "<div>\n",
       "<style scoped>\n",
       "    .dataframe tbody tr th:only-of-type {\n",
       "        vertical-align: middle;\n",
       "    }\n",
       "\n",
       "    .dataframe tbody tr th {\n",
       "        vertical-align: top;\n",
       "    }\n",
       "\n",
       "    .dataframe thead th {\n",
       "        text-align: right;\n",
       "    }\n",
       "</style>\n",
       "<table border=\"1\" class=\"dataframe\">\n",
       "  <thead>\n",
       "    <tr style=\"text-align: right;\">\n",
       "      <th></th>\n",
       "      <th>FECHA</th>\n",
       "      <th>HORA</th>\n",
       "      <th>IDENTIFICADOR</th>\n",
       "      <th>PEATONES</th>\n",
       "      <th>NÚMERO_DISTRITO</th>\n",
       "      <th>DISTRITO</th>\n",
       "      <th>NOMBRE_VIAL</th>\n",
       "      <th>NÚMERO</th>\n",
       "      <th>CÓDIGO_POSTAL</th>\n",
       "      <th>OBSERVACIONES_DIRECCION</th>\n",
       "      <th>LATITUD</th>\n",
       "      <th>LONGITUD</th>\n",
       "    </tr>\n",
       "  </thead>\n",
       "  <tbody>\n",
       "    <tr>\n",
       "      <th>0</th>\n",
       "      <td>01/01/2021 0:00</td>\n",
       "      <td>0:00</td>\n",
       "      <td>PERM_PEA02_PM01</td>\n",
       "      <td>110.0</td>\n",
       "      <td>1</td>\n",
       "      <td>Centro</td>\n",
       "      <td>Calle Fuencarral</td>\n",
       "      <td>22</td>\n",
       "      <td>28004</td>\n",
       "      <td>Calle peatonal</td>\n",
       "      <td>40,42200905</td>\n",
       "      <td>-3,700891722</td>\n",
       "    </tr>\n",
       "    <tr>\n",
       "      <th>1</th>\n",
       "      <td>01/01/2021 0:00</td>\n",
       "      <td>0:00</td>\n",
       "      <td>PERM_PEA03_PM01</td>\n",
       "      <td>111.0</td>\n",
       "      <td>1</td>\n",
       "      <td>Centro</td>\n",
       "      <td>Calle San Bernardo</td>\n",
       "      <td>36</td>\n",
       "      <td>28015</td>\n",
       "      <td>Acera Pares</td>\n",
       "      <td>40,42380314</td>\n",
       "      <td>-3,707379398</td>\n",
       "    </tr>\n",
       "    <tr>\n",
       "      <th>2</th>\n",
       "      <td>01/01/2021 0:00</td>\n",
       "      <td>0:00</td>\n",
       "      <td>PERM_PEA04_PM01</td>\n",
       "      <td>15.0</td>\n",
       "      <td>1</td>\n",
       "      <td>Centro</td>\n",
       "      <td>Calle Hortaleza</td>\n",
       "      <td>18</td>\n",
       "      <td>28004</td>\n",
       "      <td>Acera Pares</td>\n",
       "      <td>40,42107227</td>\n",
       "      <td>-3,70049043</td>\n",
       "    </tr>\n",
       "    <tr>\n",
       "      <th>3</th>\n",
       "      <td>01/01/2021 0:00</td>\n",
       "      <td>0:00</td>\n",
       "      <td>PERM_PEA05_PM01</td>\n",
       "      <td>44.0</td>\n",
       "      <td>1</td>\n",
       "      <td>Centro</td>\n",
       "      <td>Carrera de San Jerónimo</td>\n",
       "      <td>6</td>\n",
       "      <td>28014</td>\n",
       "      <td>Acera Pares</td>\n",
       "      <td>40,41664098</td>\n",
       "      <td>-3,701246554</td>\n",
       "    </tr>\n",
       "    <tr>\n",
       "      <th>4</th>\n",
       "      <td>01/01/2021 0:00</td>\n",
       "      <td>0:00</td>\n",
       "      <td>PERM_PEA06_PM01</td>\n",
       "      <td>49.0</td>\n",
       "      <td>1</td>\n",
       "      <td>Centro</td>\n",
       "      <td>Calle Atocha</td>\n",
       "      <td>95</td>\n",
       "      <td>28012</td>\n",
       "      <td>Acera Impares</td>\n",
       "      <td>40,41110888</td>\n",
       "      <td>-3,696471467</td>\n",
       "    </tr>\n",
       "  </tbody>\n",
       "</table>\n",
       "</div>"
      ],
      "text/plain": [
       "             FECHA  HORA    IDENTIFICADOR  PEATONES  NÚMERO_DISTRITO DISTRITO  \\\n",
       "0  01/01/2021 0:00  0:00  PERM_PEA02_PM01     110.0                1   Centro   \n",
       "1  01/01/2021 0:00  0:00  PERM_PEA03_PM01     111.0                1   Centro   \n",
       "2  01/01/2021 0:00  0:00  PERM_PEA04_PM01      15.0                1   Centro   \n",
       "3  01/01/2021 0:00  0:00  PERM_PEA05_PM01      44.0                1   Centro   \n",
       "4  01/01/2021 0:00  0:00  PERM_PEA06_PM01      49.0                1   Centro   \n",
       "\n",
       "               NOMBRE_VIAL  NÚMERO  CÓDIGO_POSTAL OBSERVACIONES_DIRECCION  \\\n",
       "0         Calle Fuencarral      22          28004         Calle peatonal    \n",
       "1       Calle San Bernardo      36          28015             Acera Pares   \n",
       "2          Calle Hortaleza      18          28004            Acera Pares    \n",
       "3  Carrera de San Jerónimo       6          28014            Acera Pares    \n",
       "4             Calle Atocha      95          28012          Acera Impares    \n",
       "\n",
       "       LATITUD      LONGITUD  \n",
       "0  40,42200905  -3,700891722  \n",
       "1  40,42380314  -3,707379398  \n",
       "2  40,42107227   -3,70049043  \n",
       "3  40,41664098  -3,701246554  \n",
       "4  40,41110888  -3,696471467  "
      ]
     },
     "execution_count": 41,
     "metadata": {},
     "output_type": "execute_result"
    }
   ],
   "source": [
    "datos.head()"
   ]
  },
  {
   "cell_type": "markdown",
   "id": "85e7a471-7c0b-495b-92cf-917462c20bc7",
   "metadata": {},
   "source": [
    "# Preparación de los datos"
   ]
  },
  {
   "cell_type": "markdown",
   "id": "1e940a3e-b872-42e3-a2fd-dc35f9c0b4be",
   "metadata": {},
   "source": [
    "## Valores vacíos"
   ]
  },
  {
   "cell_type": "code",
   "execution_count": 4,
   "id": "b95cb023-d6e2-47b1-8623-88bba9a35e79",
   "metadata": {},
   "outputs": [
    {
     "data": {
      "text/plain": [
       "FECHA                      False\n",
       "HORA                       False\n",
       "IDENTIFICADOR              False\n",
       "PEATONES                    True\n",
       "NÚMERO_DISTRITO            False\n",
       "DISTRITO                   False\n",
       "NOMBRE_VIAL                False\n",
       "NÚMERO                     False\n",
       "CÓDIGO_POSTAL              False\n",
       "OBSERVACIONES_DIRECCION    False\n",
       "LATITUD                    False\n",
       "LONGITUD                   False\n",
       "dtype: bool"
      ]
     },
     "execution_count": 4,
     "metadata": {},
     "output_type": "execute_result"
    }
   ],
   "source": [
    "datos.isna().any()"
   ]
  },
  {
   "cell_type": "code",
   "execution_count": 5,
   "id": "3b5ade60-5bdd-40c1-99bb-120648697bd0",
   "metadata": {},
   "outputs": [
    {
     "name": "stdout",
     "output_type": "stream",
     "text": [
      "FECHA                         0\n",
      "HORA                          0\n",
      "IDENTIFICADOR                 0\n",
      "PEATONES                   3296\n",
      "NÚMERO_DISTRITO               0\n",
      "DISTRITO                      0\n",
      "NOMBRE_VIAL                   0\n",
      "NÚMERO                        0\n",
      "CÓDIGO_POSTAL                 0\n",
      "OBSERVACIONES_DIRECCION       0\n",
      "LATITUD                       0\n",
      "LONGITUD                      0\n",
      "dtype: int64\n",
      "            FECHA   HORA    IDENTIFICADOR  PEATONES  NÚMERO_DISTRITO  \\\n",
      "8      01/09/2019   0:00  PERM_PEA09_PM01       NaN                1   \n",
      "27     01/09/2019   1:00  PERM_PEA09_PM01       NaN                1   \n",
      "34     01/09/2019   1:00  PERM_PEA16_PM01       NaN                2   \n",
      "46     01/09/2019   2:00  PERM_PEA09_PM01       NaN                1   \n",
      "53     01/09/2019   2:00  PERM_PEA16_PM01       NaN                2   \n",
      "...           ...    ...              ...       ...              ...   \n",
      "55552  31/12/2019  19:00  PERM_PEA16_PM01       NaN                2   \n",
      "55571  31/12/2019  20:00  PERM_PEA16_PM01       NaN                2   \n",
      "55590  31/12/2019  21:00  PERM_PEA16_PM01       NaN                2   \n",
      "55609  31/12/2019  22:00  PERM_PEA16_PM01       NaN                2   \n",
      "55628  31/12/2019  23:00  PERM_PEA16_PM01       NaN                2   \n",
      "\n",
      "         DISTRITO                   NOMBRE_VIAL  NÚMERO  CÓDIGO_POSTAL  \\\n",
      "8          Centro            Paseo de Recoletos      22          28001   \n",
      "27         Centro            Paseo de Recoletos      22          28001   \n",
      "34     Arganzuela  Plaza del Emperador Carlos V      11          28012   \n",
      "46         Centro            Paseo de Recoletos      22          28001   \n",
      "53     Arganzuela  Plaza del Emperador Carlos V      11          28012   \n",
      "...           ...                           ...     ...            ...   \n",
      "55552  Arganzuela  Plaza del Emperador Carlos V      11          28012   \n",
      "55571  Arganzuela  Plaza del Emperador Carlos V      11          28012   \n",
      "55590  Arganzuela  Plaza del Emperador Carlos V      11          28012   \n",
      "55609  Arganzuela  Plaza del Emperador Carlos V      11          28012   \n",
      "55628  Arganzuela  Plaza del Emperador Carlos V      11          28012   \n",
      "\n",
      "      OBSERVACIONES_DIRECCION      LATITUD      LONGITUD  \n",
      "8                Acera Pares   40,41990798  -3,692363251  \n",
      "27               Acera Pares   40,41990798  -3,692363251  \n",
      "34             Acera Impares     40,409118     -3,692441  \n",
      "46               Acera Pares   40,41990798  -3,692363251  \n",
      "53             Acera Impares     40,409118     -3,692441  \n",
      "...                       ...          ...           ...  \n",
      "55552          Acera Impares     40,409118     -3,692441  \n",
      "55571          Acera Impares     40,409118     -3,692441  \n",
      "55590          Acera Impares     40,409118     -3,692441  \n",
      "55609          Acera Impares     40,409118     -3,692441  \n",
      "55628          Acera Impares     40,409118     -3,692441  \n",
      "\n",
      "[3296 rows x 12 columns]\n"
     ]
    }
   ],
   "source": [
    "print(datos.isnull().sum())\n",
    "nan_rows = datos[datos .isnull().any(1)]\n",
    "print(nan_rows)"
   ]
  },
  {
   "cell_type": "markdown",
   "id": "e5cd4e18-78f9-4b3d-bd44-af7b0fb3aa9e",
   "metadata": {},
   "source": [
    "Demasiados valores vacíos, eliminamos dichos casos"
   ]
  },
  {
   "cell_type": "code",
   "execution_count": 5,
   "id": "2fcffaa0-e40e-42fe-b2b6-1619dd05d96a",
   "metadata": {},
   "outputs": [
    {
     "data": {
      "text/plain": [
       "FECHA                      False\n",
       "HORA                       False\n",
       "IDENTIFICADOR              False\n",
       "PEATONES                   False\n",
       "NÚMERO_DISTRITO            False\n",
       "DISTRITO                   False\n",
       "NOMBRE_VIAL                False\n",
       "NÚMERO                     False\n",
       "CÓDIGO_POSTAL              False\n",
       "OBSERVACIONES_DIRECCION    False\n",
       "LATITUD                    False\n",
       "LONGITUD                   False\n",
       "dtype: bool"
      ]
     },
     "execution_count": 5,
     "metadata": {},
     "output_type": "execute_result"
    }
   ],
   "source": [
    "datos = datos.dropna()\n",
    "datos.isna().any()"
   ]
  },
  {
   "cell_type": "markdown",
   "id": "e4f5d91b-7a67-40c9-9e60-b02e79ad2a4c",
   "metadata": {},
   "source": [
    "## Fecha"
   ]
  },
  {
   "cell_type": "code",
   "execution_count": 6,
   "id": "2af16e08-7d94-4590-a436-6a45e365800a",
   "metadata": {},
   "outputs": [
    {
     "data": {
      "text/plain": [
       "0        01/01/2021\n",
       "1        01/01/2021\n",
       "2        01/01/2021\n",
       "3        01/01/2021\n",
       "4        01/01/2021\n",
       "            ...    \n",
       "55626    31/12/2019\n",
       "55627    31/12/2019\n",
       "55629    31/12/2019\n",
       "55630    31/12/2019\n",
       "55631    31/12/2019\n",
       "Name: FECHA, Length: 301768, dtype: object"
      ]
     },
     "execution_count": 6,
     "metadata": {},
     "output_type": "execute_result"
    }
   ],
   "source": [
    "# datos['FECHA'] = pd.to_datetime(datos['FECHA'])\n",
    "datos['FECHA'] = datos['FECHA'].replace(\"-\",\"/\")\n",
    "datos['FECHA']= datos['FECHA'].str.slice(0, 10)\n",
    "datos[\"FECHA\"]"
   ]
  },
  {
   "cell_type": "markdown",
   "id": "b11c00c5-ae31-49a7-a78d-3fa83a2f72ce",
   "metadata": {},
   "source": [
    "### Festivos"
   ]
  },
  {
   "cell_type": "code",
   "execution_count": 7,
   "id": "d2dc252d-9fb4-4439-b184-607385b970b0",
   "metadata": {},
   "outputs": [
    {
     "data": {
      "text/plain": [
       "['01/01/2021',\n",
       " '06/01/2021',\n",
       " '19/03/2021',\n",
       " '01/04/2021',\n",
       " '02/04/2021',\n",
       " '01/05/2021',\n",
       " '03/05/2021',\n",
       " '15/05/2021',\n",
       " '15/05/2021',\n",
       " '12/10/2021',\n",
       " '01/11/2021',\n",
       " '09/11/2021',\n",
       " '06/12/2021',\n",
       " '08/12/2021',\n",
       " '25/12/2021',\n",
       " '01/01/2020',\n",
       " '06/01/2020',\n",
       " '09/04/2020',\n",
       " '10/04/2020',\n",
       " '01/05/2020',\n",
       " '02/05/2020',\n",
       " '15/05/2020',\n",
       " '15/08/2020',\n",
       " '12/10/2020',\n",
       " '02/11/2020',\n",
       " '09/11/2020',\n",
       " '07/12/2020',\n",
       " '08/12/2020',\n",
       " '25/12/2020',\n",
       " '01/01/2019',\n",
       " '07/01/2019',\n",
       " '18/04/2019',\n",
       " '19/04/2019',\n",
       " '01/05/2019',\n",
       " '02/05/2019',\n",
       " '15/05/2019',\n",
       " '15/08/2019',\n",
       " '12/10/2019',\n",
       " '01/11/2019',\n",
       " '09/11/2019',\n",
       " '06/12/2019',\n",
       " '09/12/2019',\n",
       " '25/12/2019']"
      ]
     },
     "execution_count": 7,
     "metadata": {},
     "output_type": "execute_result"
    }
   ],
   "source": [
    "import requests as req\n",
    "\n",
    "url = \"https://holydayapi.herokuapp.com/\"\n",
    "ciudad=\"/holidays/city/Madrid\"\n",
    "año_2021=\"/year/2021\"\n",
    "año_2020=\"/year/2020\"\n",
    "año_2019=\"/year/2019\"\n",
    "\n",
    "busqueda_2021 = req.get(url + ciudad+año_2021)\n",
    "busqueda_2020 = req.get(url + ciudad+año_2020)\n",
    "busqueda_2019 = req.get(url + ciudad+año_2019)\n",
    "\n",
    "festivos=[]\n",
    "\n",
    "r=busqueda_2021.json()\n",
    "for n in r:\n",
    "    festivos.append(n[\"day\"])\n",
    "\n",
    "r=busqueda_2020.json()\n",
    "for n in r:\n",
    "    festivos.append(n[\"day\"])\n",
    "    \n",
    "r=busqueda_2019.json()\n",
    "for n in r:\n",
    "    festivos.append(n[\"day\"])\n",
    "    \n",
    "festivos"
   ]
  },
  {
   "cell_type": "markdown",
   "id": "56b777c4-33da-422e-a79a-95aa6550da5d",
   "metadata": {},
   "source": [
    "Añadimos algunas fechas"
   ]
  },
  {
   "cell_type": "code",
   "execution_count": 8,
   "id": "c0e05261-7a96-414f-a434-7a84f273861e",
   "metadata": {},
   "outputs": [],
   "source": [
    "festivos.append('31/12/2019')\n",
    "festivos.append('31/12/2020')\n",
    "festivos.append('31/12/2021')\n",
    "festivos.append('31/10/2019')\n",
    "festivos.append('31/10/2020')\n",
    "festivos.append('31/10/2021')"
   ]
  },
  {
   "cell_type": "code",
   "execution_count": 9,
   "id": "ee8ac94b-285a-4724-8bfc-c090721553ca",
   "metadata": {},
   "outputs": [
    {
     "data": {
      "text/plain": [
       "['01/01/2021',\n",
       " '06/01/2021',\n",
       " '19/03/2021',\n",
       " '01/04/2021',\n",
       " '02/04/2021',\n",
       " '01/05/2021',\n",
       " '03/05/2021',\n",
       " '15/05/2021',\n",
       " '15/05/2021',\n",
       " '12/10/2021',\n",
       " '01/11/2021',\n",
       " '09/11/2021',\n",
       " '06/12/2021',\n",
       " '08/12/2021',\n",
       " '25/12/2021',\n",
       " '01/01/2020',\n",
       " '06/01/2020',\n",
       " '09/04/2020',\n",
       " '10/04/2020',\n",
       " '01/05/2020',\n",
       " '02/05/2020',\n",
       " '15/05/2020',\n",
       " '15/08/2020',\n",
       " '12/10/2020',\n",
       " '02/11/2020',\n",
       " '09/11/2020',\n",
       " '07/12/2020',\n",
       " '08/12/2020',\n",
       " '25/12/2020',\n",
       " '01/01/2019',\n",
       " '07/01/2019',\n",
       " '18/04/2019',\n",
       " '19/04/2019',\n",
       " '01/05/2019',\n",
       " '02/05/2019',\n",
       " '15/05/2019',\n",
       " '15/08/2019',\n",
       " '12/10/2019',\n",
       " '01/11/2019',\n",
       " '09/11/2019',\n",
       " '06/12/2019',\n",
       " '09/12/2019',\n",
       " '25/12/2019',\n",
       " '31/12/2019',\n",
       " '31/12/2020',\n",
       " '31/12/2021',\n",
       " '31/10/2019',\n",
       " '31/10/2020',\n",
       " '31/10/2021']"
      ]
     },
     "execution_count": 9,
     "metadata": {},
     "output_type": "execute_result"
    }
   ],
   "source": [
    "for i in festivos:\n",
    "    i=i.replace(\"-\",\"/\")\n",
    "festivos"
   ]
  },
  {
   "cell_type": "code",
   "execution_count": 10,
   "id": "bf16bf5f-5ab8-45b7-8edc-59e136dcbb7f",
   "metadata": {},
   "outputs": [],
   "source": [
    "festividades=[]\n",
    "for n in datos['FECHA']:\n",
    "    if n in festivos:\n",
    "        festividades.append(True)\n",
    "    else:\n",
    "        festividades.append(False)"
   ]
  },
  {
   "cell_type": "code",
   "execution_count": 11,
   "id": "fe4af622-44a7-4459-9e75-05e328cf2a75",
   "metadata": {},
   "outputs": [
    {
     "data": {
      "text/plain": [
       "count     301768\n",
       "unique         2\n",
       "top        False\n",
       "freq      287331\n",
       "Name: Festivo, dtype: object"
      ]
     },
     "execution_count": 11,
     "metadata": {},
     "output_type": "execute_result"
    }
   ],
   "source": [
    "datos['Festivo']=festividades\n",
    "datos.Festivo.describe()"
   ]
  },
  {
   "cell_type": "markdown",
   "id": "0d7d1104-15c5-4cac-b2cb-6f8707e4cfa1",
   "metadata": {},
   "source": [
    "### Formato"
   ]
  },
  {
   "cell_type": "code",
   "execution_count": 12,
   "id": "abd4a397-2911-47c2-a5b1-5e5eb7203064",
   "metadata": {},
   "outputs": [
    {
     "name": "stdout",
     "output_type": "stream",
     "text": [
      "0       2021-01-01\n",
      "1       2021-01-01\n",
      "2       2021-01-01\n",
      "3       2021-01-01\n",
      "4       2021-01-01\n",
      "           ...    \n",
      "55626   2019-12-31\n",
      "55627   2019-12-31\n",
      "55629   2019-12-31\n",
      "55630   2019-12-31\n",
      "55631   2019-12-31\n",
      "Name: FECHA, Length: 301768, dtype: datetime64[ns]\n"
     ]
    }
   ],
   "source": [
    "datos['FECHA'] = pd.to_datetime(datos['FECHA'], format=\"%d/%m/%Y\")\n",
    "print(datos['FECHA'])"
   ]
  },
  {
   "cell_type": "markdown",
   "id": "07fed7f9-916f-4dbe-ac28-f4c1612aa557",
   "metadata": {},
   "source": [
    "Encontramos formatos distintos en la variable fecha"
   ]
  },
  {
   "cell_type": "markdown",
   "id": "99af99f9-ea43-4e46-b942-4491c1d220b6",
   "metadata": {},
   "source": [
    "## Descomposición de fechas"
   ]
  },
  {
   "cell_type": "code",
   "execution_count": 13,
   "id": "b06f713e-2984-4cd8-b343-e303f1347b68",
   "metadata": {},
   "outputs": [
    {
     "data": {
      "text/html": [
       "<div>\n",
       "<style scoped>\n",
       "    .dataframe tbody tr th:only-of-type {\n",
       "        vertical-align: middle;\n",
       "    }\n",
       "\n",
       "    .dataframe tbody tr th {\n",
       "        vertical-align: top;\n",
       "    }\n",
       "\n",
       "    .dataframe thead th {\n",
       "        text-align: right;\n",
       "    }\n",
       "</style>\n",
       "<table border=\"1\" class=\"dataframe\">\n",
       "  <thead>\n",
       "    <tr style=\"text-align: right;\">\n",
       "      <th></th>\n",
       "      <th>FECHA</th>\n",
       "      <th>HORA</th>\n",
       "      <th>IDENTIFICADOR</th>\n",
       "      <th>PEATONES</th>\n",
       "      <th>NÚMERO_DISTRITO</th>\n",
       "      <th>DISTRITO</th>\n",
       "      <th>NOMBRE_VIAL</th>\n",
       "      <th>NÚMERO</th>\n",
       "      <th>CÓDIGO_POSTAL</th>\n",
       "      <th>OBSERVACIONES_DIRECCION</th>\n",
       "      <th>LATITUD</th>\n",
       "      <th>LONGITUD</th>\n",
       "      <th>Festivo</th>\n",
       "      <th>dia_semana</th>\n",
       "      <th>mes</th>\n",
       "    </tr>\n",
       "  </thead>\n",
       "  <tbody>\n",
       "    <tr>\n",
       "      <th>0</th>\n",
       "      <td>2021-01-01</td>\n",
       "      <td>0:00</td>\n",
       "      <td>PERM_PEA02_PM01</td>\n",
       "      <td>110.0</td>\n",
       "      <td>1</td>\n",
       "      <td>Centro</td>\n",
       "      <td>Calle Fuencarral</td>\n",
       "      <td>22</td>\n",
       "      <td>28004</td>\n",
       "      <td>Calle peatonal</td>\n",
       "      <td>40,42200905</td>\n",
       "      <td>-3,700891722</td>\n",
       "      <td>True</td>\n",
       "      <td>Friday</td>\n",
       "      <td>January</td>\n",
       "    </tr>\n",
       "    <tr>\n",
       "      <th>1</th>\n",
       "      <td>2021-01-01</td>\n",
       "      <td>0:00</td>\n",
       "      <td>PERM_PEA03_PM01</td>\n",
       "      <td>111.0</td>\n",
       "      <td>1</td>\n",
       "      <td>Centro</td>\n",
       "      <td>Calle San Bernardo</td>\n",
       "      <td>36</td>\n",
       "      <td>28015</td>\n",
       "      <td>Acera Pares</td>\n",
       "      <td>40,42380314</td>\n",
       "      <td>-3,707379398</td>\n",
       "      <td>True</td>\n",
       "      <td>Friday</td>\n",
       "      <td>January</td>\n",
       "    </tr>\n",
       "    <tr>\n",
       "      <th>2</th>\n",
       "      <td>2021-01-01</td>\n",
       "      <td>0:00</td>\n",
       "      <td>PERM_PEA04_PM01</td>\n",
       "      <td>15.0</td>\n",
       "      <td>1</td>\n",
       "      <td>Centro</td>\n",
       "      <td>Calle Hortaleza</td>\n",
       "      <td>18</td>\n",
       "      <td>28004</td>\n",
       "      <td>Acera Pares</td>\n",
       "      <td>40,42107227</td>\n",
       "      <td>-3,70049043</td>\n",
       "      <td>True</td>\n",
       "      <td>Friday</td>\n",
       "      <td>January</td>\n",
       "    </tr>\n",
       "    <tr>\n",
       "      <th>3</th>\n",
       "      <td>2021-01-01</td>\n",
       "      <td>0:00</td>\n",
       "      <td>PERM_PEA05_PM01</td>\n",
       "      <td>44.0</td>\n",
       "      <td>1</td>\n",
       "      <td>Centro</td>\n",
       "      <td>Carrera de San Jerónimo</td>\n",
       "      <td>6</td>\n",
       "      <td>28014</td>\n",
       "      <td>Acera Pares</td>\n",
       "      <td>40,41664098</td>\n",
       "      <td>-3,701246554</td>\n",
       "      <td>True</td>\n",
       "      <td>Friday</td>\n",
       "      <td>January</td>\n",
       "    </tr>\n",
       "    <tr>\n",
       "      <th>4</th>\n",
       "      <td>2021-01-01</td>\n",
       "      <td>0:00</td>\n",
       "      <td>PERM_PEA06_PM01</td>\n",
       "      <td>49.0</td>\n",
       "      <td>1</td>\n",
       "      <td>Centro</td>\n",
       "      <td>Calle Atocha</td>\n",
       "      <td>95</td>\n",
       "      <td>28012</td>\n",
       "      <td>Acera Impares</td>\n",
       "      <td>40,41110888</td>\n",
       "      <td>-3,696471467</td>\n",
       "      <td>True</td>\n",
       "      <td>Friday</td>\n",
       "      <td>January</td>\n",
       "    </tr>\n",
       "  </tbody>\n",
       "</table>\n",
       "</div>"
      ],
      "text/plain": [
       "       FECHA  HORA    IDENTIFICADOR  PEATONES  NÚMERO_DISTRITO DISTRITO  \\\n",
       "0 2021-01-01  0:00  PERM_PEA02_PM01     110.0                1   Centro   \n",
       "1 2021-01-01  0:00  PERM_PEA03_PM01     111.0                1   Centro   \n",
       "2 2021-01-01  0:00  PERM_PEA04_PM01      15.0                1   Centro   \n",
       "3 2021-01-01  0:00  PERM_PEA05_PM01      44.0                1   Centro   \n",
       "4 2021-01-01  0:00  PERM_PEA06_PM01      49.0                1   Centro   \n",
       "\n",
       "               NOMBRE_VIAL  NÚMERO  CÓDIGO_POSTAL OBSERVACIONES_DIRECCION  \\\n",
       "0         Calle Fuencarral      22          28004         Calle peatonal    \n",
       "1       Calle San Bernardo      36          28015             Acera Pares   \n",
       "2          Calle Hortaleza      18          28004            Acera Pares    \n",
       "3  Carrera de San Jerónimo       6          28014            Acera Pares    \n",
       "4             Calle Atocha      95          28012          Acera Impares    \n",
       "\n",
       "       LATITUD      LONGITUD  Festivo dia_semana      mes  \n",
       "0  40,42200905  -3,700891722     True     Friday  January  \n",
       "1  40,42380314  -3,707379398     True     Friday  January  \n",
       "2  40,42107227   -3,70049043     True     Friday  January  \n",
       "3  40,41664098  -3,701246554     True     Friday  January  \n",
       "4  40,41110888  -3,696471467     True     Friday  January  "
      ]
     },
     "execution_count": 13,
     "metadata": {},
     "output_type": "execute_result"
    }
   ],
   "source": [
    "dia_semana=[]\n",
    "mes=[]\n",
    "for n in datos[\"FECHA\"]:\n",
    "    dia_semana.append(calendar.day_name[n.weekday()])\n",
    "    mes.append(calendar.month_name[n.month])\n",
    "datos[\"dia_semana\"]=dia_semana\n",
    "datos[\"mes\"]=mes\n",
    "datos.head()"
   ]
  },
  {
   "cell_type": "code",
   "execution_count": 14,
   "id": "e0f5425d-dbd8-415f-b27c-bf3780320cd2",
   "metadata": {},
   "outputs": [],
   "source": [
    "datos.to_csv(\"datos_modelo_aforo.csv\",sep=\";\")"
   ]
  },
  {
   "cell_type": "markdown",
   "id": "58c440a6-1698-4c0e-817b-7fd5ab17f9ac",
   "metadata": {},
   "source": [
    "# Zona de estudio"
   ]
  },
  {
   "cell_type": "code",
   "execution_count": 51,
   "id": "ed1956a9-d890-4710-b92a-a9b11d18264d",
   "metadata": {},
   "outputs": [
    {
     "data": {
      "text/plain": [
       "[[40.42200905, -3.700891722],\n",
       " [40.42380314, -3.707379398],\n",
       " [40.42107227, -3.70049043],\n",
       " [40.41664098, -3.701246554],\n",
       " [40.41110888, -3.696471467],\n",
       " [40.41637598, -3.706029098],\n",
       " [40.4202703, -3.704325575],\n",
       " [40.42015321, -3.70435898],\n",
       " [40.41990798, -3.692363251],\n",
       " [40.42695341, -3.69448847],\n",
       " [40.41338702, -3.697740186],\n",
       " [40.41373441, -3.723947718],\n",
       " [40.42479893, -3.712094845],\n",
       " [40.43046926, -3.713297939],\n",
       " [40.41289138, -3.707464267],\n",
       " [40.409118, -3.692441],\n",
       " [40.405367, -3.701798],\n",
       " [40.418256, -3.697732],\n",
       " [40.415111, -3.713569]]"
      ]
     },
     "execution_count": 51,
     "metadata": {},
     "output_type": "execute_result"
    }
   ],
   "source": [
    "lat=datos.LATITUD.unique()\n",
    "long=datos.LONGITUD.unique()\n",
    "\n",
    "#lat=lat.astype(np.float)\n",
    "#latf=float(lat)\n",
    "#longf = float(long)\n",
    "#longf\n",
    "coord = []\n",
    "locale.setlocale(locale.LC_NUMERIC,\"es_ES.utf8\")\n",
    "\n",
    "for c in range(0,len(lat)):\n",
    "     coord.append([locale.atof(lat[c]),locale.atof(long[c])])\n",
    "coord\n",
    "    "
   ]
  },
  {
   "cell_type": "code",
   "execution_count": 52,
   "id": "d5254c54-6602-41fd-9fc7-3e58ce62e931",
   "metadata": {},
   "outputs": [
    {
     "data": {
      "text/html": [
       "<div style=\"width:100%;\"><div style=\"position:relative;width:100%;height:0;padding-bottom:60%;\"><span style=\"color:#565656\">Make this Notebook Trusted to load map: File -> Trust Notebook</span><iframe src=\"about:blank\" style=\"position:absolute;width:100%;height:100%;left:0;top:0;border:none !important;\" data-html=%3C%21DOCTYPE%20html%3E%0A%3Chead%3E%20%20%20%20%0A%20%20%20%20%3Cmeta%20http-equiv%3D%22content-type%22%20content%3D%22text/html%3B%20charset%3DUTF-8%22%20/%3E%0A%20%20%20%20%0A%20%20%20%20%20%20%20%20%3Cscript%3E%0A%20%20%20%20%20%20%20%20%20%20%20%20L_NO_TOUCH%20%3D%20false%3B%0A%20%20%20%20%20%20%20%20%20%20%20%20L_DISABLE_3D%20%3D%20false%3B%0A%20%20%20%20%20%20%20%20%3C/script%3E%0A%20%20%20%20%0A%20%20%20%20%3Cstyle%3Ehtml%2C%20body%20%7Bwidth%3A%20100%25%3Bheight%3A%20100%25%3Bmargin%3A%200%3Bpadding%3A%200%3B%7D%3C/style%3E%0A%20%20%20%20%3Cstyle%3E%23map%20%7Bposition%3Aabsolute%3Btop%3A0%3Bbottom%3A0%3Bright%3A0%3Bleft%3A0%3B%7D%3C/style%3E%0A%20%20%20%20%3Cscript%20src%3D%22https%3A//cdn.jsdelivr.net/npm/leaflet%401.6.0/dist/leaflet.js%22%3E%3C/script%3E%0A%20%20%20%20%3Cscript%20src%3D%22https%3A//code.jquery.com/jquery-1.12.4.min.js%22%3E%3C/script%3E%0A%20%20%20%20%3Cscript%20src%3D%22https%3A//maxcdn.bootstrapcdn.com/bootstrap/3.2.0/js/bootstrap.min.js%22%3E%3C/script%3E%0A%20%20%20%20%3Cscript%20src%3D%22https%3A//cdnjs.cloudflare.com/ajax/libs/Leaflet.awesome-markers/2.0.2/leaflet.awesome-markers.js%22%3E%3C/script%3E%0A%20%20%20%20%3Clink%20rel%3D%22stylesheet%22%20href%3D%22https%3A//cdn.jsdelivr.net/npm/leaflet%401.6.0/dist/leaflet.css%22/%3E%0A%20%20%20%20%3Clink%20rel%3D%22stylesheet%22%20href%3D%22https%3A//maxcdn.bootstrapcdn.com/bootstrap/3.2.0/css/bootstrap.min.css%22/%3E%0A%20%20%20%20%3Clink%20rel%3D%22stylesheet%22%20href%3D%22https%3A//maxcdn.bootstrapcdn.com/bootstrap/3.2.0/css/bootstrap-theme.min.css%22/%3E%0A%20%20%20%20%3Clink%20rel%3D%22stylesheet%22%20href%3D%22https%3A//maxcdn.bootstrapcdn.com/font-awesome/4.6.3/css/font-awesome.min.css%22/%3E%0A%20%20%20%20%3Clink%20rel%3D%22stylesheet%22%20href%3D%22https%3A//cdnjs.cloudflare.com/ajax/libs/Leaflet.awesome-markers/2.0.2/leaflet.awesome-markers.css%22/%3E%0A%20%20%20%20%3Clink%20rel%3D%22stylesheet%22%20href%3D%22https%3A//cdn.jsdelivr.net/gh/python-visualization/folium/folium/templates/leaflet.awesome.rotate.min.css%22/%3E%0A%20%20%20%20%0A%20%20%20%20%20%20%20%20%20%20%20%20%3Cmeta%20name%3D%22viewport%22%20content%3D%22width%3Ddevice-width%2C%0A%20%20%20%20%20%20%20%20%20%20%20%20%20%20%20%20initial-scale%3D1.0%2C%20maximum-scale%3D1.0%2C%20user-scalable%3Dno%22%20/%3E%0A%20%20%20%20%20%20%20%20%20%20%20%20%3Cstyle%3E%0A%20%20%20%20%20%20%20%20%20%20%20%20%20%20%20%20%23map_052e7ea789ed40cf9429e13da75d5114%20%7B%0A%20%20%20%20%20%20%20%20%20%20%20%20%20%20%20%20%20%20%20%20position%3A%20relative%3B%0A%20%20%20%20%20%20%20%20%20%20%20%20%20%20%20%20%20%20%20%20width%3A%20100.0%25%3B%0A%20%20%20%20%20%20%20%20%20%20%20%20%20%20%20%20%20%20%20%20height%3A%20100.0%25%3B%0A%20%20%20%20%20%20%20%20%20%20%20%20%20%20%20%20%20%20%20%20left%3A%200.0%25%3B%0A%20%20%20%20%20%20%20%20%20%20%20%20%20%20%20%20%20%20%20%20top%3A%200.0%25%3B%0A%20%20%20%20%20%20%20%20%20%20%20%20%20%20%20%20%7D%0A%20%20%20%20%20%20%20%20%20%20%20%20%3C/style%3E%0A%20%20%20%20%20%20%20%20%0A%3C/head%3E%0A%3Cbody%3E%20%20%20%20%0A%20%20%20%20%0A%20%20%20%20%20%20%20%20%20%20%20%20%3Cdiv%20class%3D%22folium-map%22%20id%3D%22map_052e7ea789ed40cf9429e13da75d5114%22%20%3E%3C/div%3E%0A%20%20%20%20%20%20%20%20%0A%3C/body%3E%0A%3Cscript%3E%20%20%20%20%0A%20%20%20%20%0A%20%20%20%20%20%20%20%20%20%20%20%20var%20map_052e7ea789ed40cf9429e13da75d5114%20%3D%20L.map%28%0A%20%20%20%20%20%20%20%20%20%20%20%20%20%20%20%20%22map_052e7ea789ed40cf9429e13da75d5114%22%2C%0A%20%20%20%20%20%20%20%20%20%20%20%20%20%20%20%20%7B%0A%20%20%20%20%20%20%20%20%20%20%20%20%20%20%20%20%20%20%20%20center%3A%20%5B40.42200905%2C%20-3.700891722%5D%2C%0A%20%20%20%20%20%20%20%20%20%20%20%20%20%20%20%20%20%20%20%20crs%3A%20L.CRS.EPSG3857%2C%0A%20%20%20%20%20%20%20%20%20%20%20%20%20%20%20%20%20%20%20%20zoom%3A%2015%2C%0A%20%20%20%20%20%20%20%20%20%20%20%20%20%20%20%20%20%20%20%20zoomControl%3A%20true%2C%0A%20%20%20%20%20%20%20%20%20%20%20%20%20%20%20%20%20%20%20%20preferCanvas%3A%20false%2C%0A%20%20%20%20%20%20%20%20%20%20%20%20%20%20%20%20%7D%0A%20%20%20%20%20%20%20%20%20%20%20%20%29%3B%0A%0A%20%20%20%20%20%20%20%20%20%20%20%20%0A%0A%20%20%20%20%20%20%20%20%0A%20%20%20%20%0A%20%20%20%20%20%20%20%20%20%20%20%20var%20tile_layer_fd4d2b12d5414a0ea38075c25e1e5922%20%3D%20L.tileLayer%28%0A%20%20%20%20%20%20%20%20%20%20%20%20%20%20%20%20%22https%3A//stamen-tiles-%7Bs%7D.a.ssl.fastly.net/terrain/%7Bz%7D/%7Bx%7D/%7By%7D.jpg%22%2C%0A%20%20%20%20%20%20%20%20%20%20%20%20%20%20%20%20%7B%22attribution%22%3A%20%22Map%20tiles%20by%20%5Cu003ca%20href%3D%5C%22http%3A//stamen.com%5C%22%5Cu003eStamen%20Design%5Cu003c/a%5Cu003e%2C%20under%20%5Cu003ca%20href%3D%5C%22http%3A//creativecommons.org/licenses/by/3.0%5C%22%5Cu003eCC%20BY%203.0%5Cu003c/a%5Cu003e.%20Data%20by%20%5Cu0026copy%3B%20%5Cu003ca%20href%3D%5C%22http%3A//openstreetmap.org%5C%22%5Cu003eOpenStreetMap%5Cu003c/a%5Cu003e%2C%20under%20%5Cu003ca%20href%3D%5C%22http%3A//creativecommons.org/licenses/by-sa/3.0%5C%22%5Cu003eCC%20BY%20SA%5Cu003c/a%5Cu003e.%22%2C%20%22detectRetina%22%3A%20false%2C%20%22maxNativeZoom%22%3A%2018%2C%20%22maxZoom%22%3A%2018%2C%20%22minZoom%22%3A%200%2C%20%22noWrap%22%3A%20false%2C%20%22opacity%22%3A%201%2C%20%22subdomains%22%3A%20%22abc%22%2C%20%22tms%22%3A%20false%7D%0A%20%20%20%20%20%20%20%20%20%20%20%20%29.addTo%28map_052e7ea789ed40cf9429e13da75d5114%29%3B%0A%20%20%20%20%20%20%20%20%0A%20%20%20%20%0A%20%20%20%20%20%20%20%20%20%20%20%20var%20marker_73003085336b47a0a5d747581fbce309%20%3D%20L.marker%28%0A%20%20%20%20%20%20%20%20%20%20%20%20%20%20%20%20%5B40.42200905%2C%20-3.700891722%5D%2C%0A%20%20%20%20%20%20%20%20%20%20%20%20%20%20%20%20%7B%7D%0A%20%20%20%20%20%20%20%20%20%20%20%20%29.addTo%28map_052e7ea789ed40cf9429e13da75d5114%29%3B%0A%20%20%20%20%20%20%20%20%0A%20%20%20%20%0A%20%20%20%20%20%20%20%20%20%20%20%20var%20marker_7ae49456530d4d6db72fc936ebb65de7%20%3D%20L.marker%28%0A%20%20%20%20%20%20%20%20%20%20%20%20%20%20%20%20%5B40.42380314%2C%20-3.707379398%5D%2C%0A%20%20%20%20%20%20%20%20%20%20%20%20%20%20%20%20%7B%7D%0A%20%20%20%20%20%20%20%20%20%20%20%20%29.addTo%28map_052e7ea789ed40cf9429e13da75d5114%29%3B%0A%20%20%20%20%20%20%20%20%0A%20%20%20%20%0A%20%20%20%20%20%20%20%20%20%20%20%20var%20marker_e6274cb599b74c32bdb4a8ad01e3f62c%20%3D%20L.marker%28%0A%20%20%20%20%20%20%20%20%20%20%20%20%20%20%20%20%5B40.42107227%2C%20-3.70049043%5D%2C%0A%20%20%20%20%20%20%20%20%20%20%20%20%20%20%20%20%7B%7D%0A%20%20%20%20%20%20%20%20%20%20%20%20%29.addTo%28map_052e7ea789ed40cf9429e13da75d5114%29%3B%0A%20%20%20%20%20%20%20%20%0A%20%20%20%20%0A%20%20%20%20%20%20%20%20%20%20%20%20var%20marker_eb87dd16405d4e7c9fab872380e518ea%20%3D%20L.marker%28%0A%20%20%20%20%20%20%20%20%20%20%20%20%20%20%20%20%5B40.41664098%2C%20-3.701246554%5D%2C%0A%20%20%20%20%20%20%20%20%20%20%20%20%20%20%20%20%7B%7D%0A%20%20%20%20%20%20%20%20%20%20%20%20%29.addTo%28map_052e7ea789ed40cf9429e13da75d5114%29%3B%0A%20%20%20%20%20%20%20%20%0A%20%20%20%20%0A%20%20%20%20%20%20%20%20%20%20%20%20var%20marker_1a3dbc283ec94f33b7de64762ced1817%20%3D%20L.marker%28%0A%20%20%20%20%20%20%20%20%20%20%20%20%20%20%20%20%5B40.41110888%2C%20-3.696471467%5D%2C%0A%20%20%20%20%20%20%20%20%20%20%20%20%20%20%20%20%7B%7D%0A%20%20%20%20%20%20%20%20%20%20%20%20%29.addTo%28map_052e7ea789ed40cf9429e13da75d5114%29%3B%0A%20%20%20%20%20%20%20%20%0A%20%20%20%20%0A%20%20%20%20%20%20%20%20%20%20%20%20var%20marker_1a71dcd8ce984fd4bf524e7f73cf0e52%20%3D%20L.marker%28%0A%20%20%20%20%20%20%20%20%20%20%20%20%20%20%20%20%5B40.41637598%2C%20-3.706029098%5D%2C%0A%20%20%20%20%20%20%20%20%20%20%20%20%20%20%20%20%7B%7D%0A%20%20%20%20%20%20%20%20%20%20%20%20%29.addTo%28map_052e7ea789ed40cf9429e13da75d5114%29%3B%0A%20%20%20%20%20%20%20%20%0A%20%20%20%20%0A%20%20%20%20%20%20%20%20%20%20%20%20var%20marker_e025008893984c699428e75eaaf0698f%20%3D%20L.marker%28%0A%20%20%20%20%20%20%20%20%20%20%20%20%20%20%20%20%5B40.4202703%2C%20-3.704325575%5D%2C%0A%20%20%20%20%20%20%20%20%20%20%20%20%20%20%20%20%7B%7D%0A%20%20%20%20%20%20%20%20%20%20%20%20%29.addTo%28map_052e7ea789ed40cf9429e13da75d5114%29%3B%0A%20%20%20%20%20%20%20%20%0A%20%20%20%20%0A%20%20%20%20%20%20%20%20%20%20%20%20var%20marker_1fb6bcaa476941f1b0152345e15a01e5%20%3D%20L.marker%28%0A%20%20%20%20%20%20%20%20%20%20%20%20%20%20%20%20%5B40.42015321%2C%20-3.70435898%5D%2C%0A%20%20%20%20%20%20%20%20%20%20%20%20%20%20%20%20%7B%7D%0A%20%20%20%20%20%20%20%20%20%20%20%20%29.addTo%28map_052e7ea789ed40cf9429e13da75d5114%29%3B%0A%20%20%20%20%20%20%20%20%0A%20%20%20%20%0A%20%20%20%20%20%20%20%20%20%20%20%20var%20marker_a2e2bb750767472d8b6755b432e7c563%20%3D%20L.marker%28%0A%20%20%20%20%20%20%20%20%20%20%20%20%20%20%20%20%5B40.41990798%2C%20-3.692363251%5D%2C%0A%20%20%20%20%20%20%20%20%20%20%20%20%20%20%20%20%7B%7D%0A%20%20%20%20%20%20%20%20%20%20%20%20%29.addTo%28map_052e7ea789ed40cf9429e13da75d5114%29%3B%0A%20%20%20%20%20%20%20%20%0A%20%20%20%20%0A%20%20%20%20%20%20%20%20%20%20%20%20var%20marker_2ae85832b3d4421f9fe54099217ddfc5%20%3D%20L.marker%28%0A%20%20%20%20%20%20%20%20%20%20%20%20%20%20%20%20%5B40.42695341%2C%20-3.69448847%5D%2C%0A%20%20%20%20%20%20%20%20%20%20%20%20%20%20%20%20%7B%7D%0A%20%20%20%20%20%20%20%20%20%20%20%20%29.addTo%28map_052e7ea789ed40cf9429e13da75d5114%29%3B%0A%20%20%20%20%20%20%20%20%0A%20%20%20%20%0A%20%20%20%20%20%20%20%20%20%20%20%20var%20marker_e89519d0e96e4b2bb2cfac7f9fad42d6%20%3D%20L.marker%28%0A%20%20%20%20%20%20%20%20%20%20%20%20%20%20%20%20%5B40.41338702%2C%20-3.697740186%5D%2C%0A%20%20%20%20%20%20%20%20%20%20%20%20%20%20%20%20%7B%7D%0A%20%20%20%20%20%20%20%20%20%20%20%20%29.addTo%28map_052e7ea789ed40cf9429e13da75d5114%29%3B%0A%20%20%20%20%20%20%20%20%0A%20%20%20%20%0A%20%20%20%20%20%20%20%20%20%20%20%20var%20marker_09214711ecc84f3f993ad1fc8b74de3b%20%3D%20L.marker%28%0A%20%20%20%20%20%20%20%20%20%20%20%20%20%20%20%20%5B40.41373441%2C%20-3.723947718%5D%2C%0A%20%20%20%20%20%20%20%20%20%20%20%20%20%20%20%20%7B%7D%0A%20%20%20%20%20%20%20%20%20%20%20%20%29.addTo%28map_052e7ea789ed40cf9429e13da75d5114%29%3B%0A%20%20%20%20%20%20%20%20%0A%20%20%20%20%0A%20%20%20%20%20%20%20%20%20%20%20%20var%20marker_e6d894cd9d3f44c6825065248b4d5d47%20%3D%20L.marker%28%0A%20%20%20%20%20%20%20%20%20%20%20%20%20%20%20%20%5B40.42479893%2C%20-3.712094845%5D%2C%0A%20%20%20%20%20%20%20%20%20%20%20%20%20%20%20%20%7B%7D%0A%20%20%20%20%20%20%20%20%20%20%20%20%29.addTo%28map_052e7ea789ed40cf9429e13da75d5114%29%3B%0A%20%20%20%20%20%20%20%20%0A%20%20%20%20%0A%20%20%20%20%20%20%20%20%20%20%20%20var%20marker_31d65d61f0ce4d40b0c4295fe99cd3b4%20%3D%20L.marker%28%0A%20%20%20%20%20%20%20%20%20%20%20%20%20%20%20%20%5B40.43046926%2C%20-3.713297939%5D%2C%0A%20%20%20%20%20%20%20%20%20%20%20%20%20%20%20%20%7B%7D%0A%20%20%20%20%20%20%20%20%20%20%20%20%29.addTo%28map_052e7ea789ed40cf9429e13da75d5114%29%3B%0A%20%20%20%20%20%20%20%20%0A%20%20%20%20%0A%20%20%20%20%20%20%20%20%20%20%20%20var%20marker_5b647a58bfb94d69bd5ef162534b9008%20%3D%20L.marker%28%0A%20%20%20%20%20%20%20%20%20%20%20%20%20%20%20%20%5B40.41289138%2C%20-3.707464267%5D%2C%0A%20%20%20%20%20%20%20%20%20%20%20%20%20%20%20%20%7B%7D%0A%20%20%20%20%20%20%20%20%20%20%20%20%29.addTo%28map_052e7ea789ed40cf9429e13da75d5114%29%3B%0A%20%20%20%20%20%20%20%20%0A%20%20%20%20%0A%20%20%20%20%20%20%20%20%20%20%20%20var%20marker_41afc624f7f14b96919c63d88d3e9e43%20%3D%20L.marker%28%0A%20%20%20%20%20%20%20%20%20%20%20%20%20%20%20%20%5B40.409118%2C%20-3.692441%5D%2C%0A%20%20%20%20%20%20%20%20%20%20%20%20%20%20%20%20%7B%7D%0A%20%20%20%20%20%20%20%20%20%20%20%20%29.addTo%28map_052e7ea789ed40cf9429e13da75d5114%29%3B%0A%20%20%20%20%20%20%20%20%0A%20%20%20%20%0A%20%20%20%20%20%20%20%20%20%20%20%20var%20marker_861aec433a27438f8c899d18a2e7bfb3%20%3D%20L.marker%28%0A%20%20%20%20%20%20%20%20%20%20%20%20%20%20%20%20%5B40.405367%2C%20-3.701798%5D%2C%0A%20%20%20%20%20%20%20%20%20%20%20%20%20%20%20%20%7B%7D%0A%20%20%20%20%20%20%20%20%20%20%20%20%29.addTo%28map_052e7ea789ed40cf9429e13da75d5114%29%3B%0A%20%20%20%20%20%20%20%20%0A%20%20%20%20%0A%20%20%20%20%20%20%20%20%20%20%20%20var%20marker_66289602348b443db41a298d872b01b1%20%3D%20L.marker%28%0A%20%20%20%20%20%20%20%20%20%20%20%20%20%20%20%20%5B40.418256%2C%20-3.697732%5D%2C%0A%20%20%20%20%20%20%20%20%20%20%20%20%20%20%20%20%7B%7D%0A%20%20%20%20%20%20%20%20%20%20%20%20%29.addTo%28map_052e7ea789ed40cf9429e13da75d5114%29%3B%0A%20%20%20%20%20%20%20%20%0A%20%20%20%20%0A%20%20%20%20%20%20%20%20%20%20%20%20var%20marker_2029b46375b842fba7c6c50b853ee106%20%3D%20L.marker%28%0A%20%20%20%20%20%20%20%20%20%20%20%20%20%20%20%20%5B40.415111%2C%20-3.713569%5D%2C%0A%20%20%20%20%20%20%20%20%20%20%20%20%20%20%20%20%7B%7D%0A%20%20%20%20%20%20%20%20%20%20%20%20%29.addTo%28map_052e7ea789ed40cf9429e13da75d5114%29%3B%0A%20%20%20%20%20%20%20%20%0A%3C/script%3E onload=\"this.contentDocument.open();this.contentDocument.write(    decodeURIComponent(this.getAttribute('data-html')));this.contentDocument.close();\" allowfullscreen webkitallowfullscreen mozallowfullscreen></iframe></div></div>"
      ],
      "text/plain": [
       "<folium.folium.Map at 0x1c38e67ddf0>"
      ]
     },
     "execution_count": 52,
     "metadata": {},
     "output_type": "execute_result"
    }
   ],
   "source": [
    "import folium\n",
    "\n",
    "m=folium.Map(\n",
    "    location=coord[0],\n",
    "    tiles=\"Stamen Terrain\",\n",
    "    zoom_start=15\n",
    ")\n",
    "\n",
    "for i in range(0,len(long)):\n",
    "    folium.Marker(coord[i]).add_to(m)\n",
    "\n",
    "m"
   ]
  },
  {
   "cell_type": "code",
   "execution_count": 23,
   "id": "cb44847b-2471-4fd5-b527-80863c5bf995",
   "metadata": {},
   "outputs": [
    {
     "data": {
      "text/plain": [
       "array(['-3,700891722', '-3,707379398', '-3,70049043', '-3,701246554',\n",
       "       '-3,696471467', '-3,706029098', '-3,704325575', '-3,70435898',\n",
       "       '-3,692363251', '-3,69448847', '-3,697740186', '-3,723947718',\n",
       "       '-3,712094845', '-3,713297939', '-3,707464267', '-3,692441',\n",
       "       '-3,701798', '-3,697732', '-3,713569'], dtype=object)"
      ]
     },
     "execution_count": 23,
     "metadata": {},
     "output_type": "execute_result"
    }
   ],
   "source": []
  },
  {
   "cell_type": "markdown",
   "id": "ff502993-3e3d-4c32-96f1-b4e8b8adc7b0",
   "metadata": {},
   "source": [
    "Datos de entrenamiento guardados"
   ]
  },
  {
   "cell_type": "code",
   "execution_count": 16,
   "id": "9bcbed09-7b40-413d-98fc-e4accaae6e85",
   "metadata": {},
   "outputs": [
    {
     "data": {
      "text/html": [
       "<style type=\"text/css\">\n",
       "#T_17929_row0_col0 {\n",
       "  background-color: #ffa500;\n",
       "  color: #000000;\n",
       "}\n",
       "#T_17929_row1_col0 {\n",
       "  background-color: #fac463;\n",
       "  color: #000000;\n",
       "}\n",
       "#T_17929_row2_col0 {\n",
       "  background-color: #f9cc7b;\n",
       "  color: #000000;\n",
       "}\n",
       "#T_17929_row3_col0 {\n",
       "  background-color: #f8ce82;\n",
       "  color: #000000;\n",
       "}\n",
       "#T_17929_row4_col0 {\n",
       "  background-color: #f6ddb3;\n",
       "  color: #000000;\n",
       "}\n",
       "#T_17929_row5_col0 {\n",
       "  background-color: #f6e0ba;\n",
       "  color: #000000;\n",
       "}\n",
       "#T_17929_row6_col0 {\n",
       "  background-color: #f5e0bc;\n",
       "  color: #000000;\n",
       "}\n",
       "#T_17929_row7_col0 {\n",
       "  background-color: #f5e2c2;\n",
       "  color: #000000;\n",
       "}\n",
       "#T_17929_row8_col0 {\n",
       "  background-color: #f4ebde;\n",
       "  color: #000000;\n",
       "}\n",
       "#T_17929_row9_col0 {\n",
       "  background-color: #f3f0ee;\n",
       "  color: #000000;\n",
       "}\n",
       "</style>\n",
       "<table id=\"T_17929\">\n",
       "  <thead>\n",
       "    <tr>\n",
       "      <th class=\"blank level0\" >&nbsp;</th>\n",
       "      <th id=\"T_17929_level0_col0\" class=\"col_heading level0 col0\" >PEATONES</th>\n",
       "    </tr>\n",
       "  </thead>\n",
       "  <tbody>\n",
       "    <tr>\n",
       "      <th id=\"T_17929_level0_row0\" class=\"row_heading level0 row0\" >27625</th>\n",
       "      <td id=\"T_17929_row0_col0\" class=\"data row0 col0\" >50460.000000</td>\n",
       "    </tr>\n",
       "    <tr>\n",
       "      <th id=\"T_17929_level0_row1\" class=\"row_heading level0 row1\" >27644</th>\n",
       "      <td id=\"T_17929_row1_col0\" class=\"data row1 col0\" >40572.000000</td>\n",
       "    </tr>\n",
       "    <tr>\n",
       "      <th id=\"T_17929_level0_row2\" class=\"row_heading level0 row2\" >27606</th>\n",
       "      <td id=\"T_17929_row2_col0\" class=\"data row2 col0\" >38148.000000</td>\n",
       "    </tr>\n",
       "    <tr>\n",
       "      <th id=\"T_17929_level0_row3\" class=\"row_heading level0 row3\" >27682</th>\n",
       "      <td id=\"T_17929_row3_col0\" class=\"data row3 col0\" >37510.000000</td>\n",
       "    </tr>\n",
       "    <tr>\n",
       "      <th id=\"T_17929_level0_row4\" class=\"row_heading level0 row4\" >27663</th>\n",
       "      <td id=\"T_17929_row4_col0\" class=\"data row4 col0\" >32725.000000</td>\n",
       "    </tr>\n",
       "    <tr>\n",
       "      <th id=\"T_17929_level0_row5\" class=\"row_heading level0 row5\" >27300</th>\n",
       "      <td id=\"T_17929_row5_col0\" class=\"data row5 col0\" >32014.000000</td>\n",
       "    </tr>\n",
       "    <tr>\n",
       "      <th id=\"T_17929_level0_row6\" class=\"row_heading level0 row6\" >27720</th>\n",
       "      <td id=\"T_17929_row6_col0\" class=\"data row6 col0\" >31832.000000</td>\n",
       "    </tr>\n",
       "    <tr>\n",
       "      <th id=\"T_17929_level0_row7\" class=\"row_heading level0 row7\" >27169</th>\n",
       "      <td id=\"T_17929_row7_col0\" class=\"data row7 col0\" >31194.000000</td>\n",
       "    </tr>\n",
       "    <tr>\n",
       "      <th id=\"T_17929_level0_row8\" class=\"row_heading level0 row8\" >27718</th>\n",
       "      <td id=\"T_17929_row8_col0\" class=\"data row8 col0\" >28439.000000</td>\n",
       "    </tr>\n",
       "    <tr>\n",
       "      <th id=\"T_17929_level0_row9\" class=\"row_heading level0 row9\" >55499</th>\n",
       "      <td id=\"T_17929_row9_col0\" class=\"data row9 col0\" >26751.000000</td>\n",
       "    </tr>\n",
       "  </tbody>\n",
       "</table>\n"
      ],
      "text/plain": [
       "<pandas.io.formats.style.Styler at 0x1eef8cfeee0>"
      ]
     },
     "execution_count": 16,
     "metadata": {},
     "output_type": "execute_result"
    }
   ],
   "source": [
    "    Num=datos['PEATONES'].sort_values(ascending=False).head(10).to_frame()    #guarda los valores 10 valores de mayor correlación\n",
    "\n",
    "cm = sns.light_palette(\"orange\", as_cmap=True)                               #me guarda el color naranja\n",
    "s = Num.style.background_gradient(cmap=cm)                                   #me pone un gradiante según su valor con lo de antes   \n",
    "s"
   ]
  },
  {
   "cell_type": "code",
   "execution_count": 17,
   "id": "97278c3a-4dc1-4519-8a64-24d70dc6d23e",
   "metadata": {},
   "outputs": [
    {
     "data": {
      "text/html": [
       "<div>\n",
       "<style scoped>\n",
       "    .dataframe tbody tr th:only-of-type {\n",
       "        vertical-align: middle;\n",
       "    }\n",
       "\n",
       "    .dataframe tbody tr th {\n",
       "        vertical-align: top;\n",
       "    }\n",
       "\n",
       "    .dataframe thead th {\n",
       "        text-align: right;\n",
       "    }\n",
       "</style>\n",
       "<table border=\"1\" class=\"dataframe\">\n",
       "  <thead>\n",
       "    <tr style=\"text-align: right;\">\n",
       "      <th></th>\n",
       "      <th>FECHA</th>\n",
       "      <th>HORA</th>\n",
       "      <th>IDENTIFICADOR</th>\n",
       "      <th>PEATONES</th>\n",
       "      <th>NÚMERO_DISTRITO</th>\n",
       "      <th>DISTRITO</th>\n",
       "      <th>NOMBRE_VIAL</th>\n",
       "      <th>NÚMERO</th>\n",
       "      <th>CÓDIGO_POSTAL</th>\n",
       "      <th>OBSERVACIONES_DIRECCION</th>\n",
       "      <th>LATITUD</th>\n",
       "      <th>LONGITUD</th>\n",
       "      <th>Festivo</th>\n",
       "      <th>dia_semana</th>\n",
       "      <th>mes</th>\n",
       "    </tr>\n",
       "  </thead>\n",
       "  <tbody>\n",
       "    <tr>\n",
       "      <th>27625</th>\n",
       "      <td>2019-10-31</td>\n",
       "      <td>13:00</td>\n",
       "      <td>PERM_PEA19_PM01</td>\n",
       "      <td>50460.0</td>\n",
       "      <td>1</td>\n",
       "      <td>Centro</td>\n",
       "      <td>Calle Bailén</td>\n",
       "      <td>10</td>\n",
       "      <td>28013</td>\n",
       "      <td>Acera Pares</td>\n",
       "      <td>40,415111</td>\n",
       "      <td>-3,713569</td>\n",
       "      <td>True</td>\n",
       "      <td>Thursday</td>\n",
       "      <td>October</td>\n",
       "    </tr>\n",
       "  </tbody>\n",
       "</table>\n",
       "</div>"
      ],
      "text/plain": [
       "           FECHA   HORA    IDENTIFICADOR  PEATONES  NÚMERO_DISTRITO DISTRITO  \\\n",
       "27625 2019-10-31  13:00  PERM_PEA19_PM01   50460.0                1   Centro   \n",
       "\n",
       "        NOMBRE_VIAL  NÚMERO  CÓDIGO_POSTAL OBSERVACIONES_DIRECCION    LATITUD  \\\n",
       "27625  Calle Bailén      10          28013            Acera Pares   40,415111   \n",
       "\n",
       "        LONGITUD  Festivo dia_semana      mes  \n",
       "27625  -3,713569     True   Thursday  October  "
      ]
     },
     "execution_count": 17,
     "metadata": {},
     "output_type": "execute_result"
    }
   ],
   "source": [
    "datos[datos['PEATONES']==50460]"
   ]
  },
  {
   "cell_type": "markdown",
   "id": "782fdaa0-a72e-41a6-96a3-7f0e03c3c898",
   "metadata": {},
   "source": [
    "Debió de ser algun evento previo al día de los santos, añadiremos estas fechas como festivas."
   ]
  },
  {
   "cell_type": "markdown",
   "id": "bb01d2ff-f0d9-447f-a2bf-9bb2165da5cd",
   "metadata": {},
   "source": [
    "## Datos preparados para visualizaciones con Carto"
   ]
  },
  {
   "cell_type": "code",
   "execution_count": 57,
   "id": "da37f255-23cc-4081-8c1a-b708104e8d66",
   "metadata": {},
   "outputs": [
    {
     "data": {
      "text/plain": [
       "FECHA       LATITUD      LONGITUD    \n",
       "2019-09-01  40,405367    -3,701798        37593.0\n",
       "            40,409118    -3,692441        19012.0\n",
       "            40,41110888  -3,696471467      2600.0\n",
       "            40,41289138  -3,707464267    103710.0\n",
       "            40,41338702  -3,697740186     20253.0\n",
       "            40,41373441  -3,723947718      8134.0\n",
       "            40,415111    -3,713569       134282.0\n",
       "            40,41637598  -3,706029098     58825.0\n",
       "            40,41664098  -3,701246554     14307.0\n",
       "            40,418256    -3,697732        40052.0\n",
       "            40,42015321  -3,70435898      40396.0\n",
       "            40,4202703   -3,704325575     42839.0\n",
       "            40,42107227  -3,70049043       8218.0\n",
       "            40,42200905  -3,700891722     58588.0\n",
       "            40,42380314  -3,707379398      2483.0\n",
       "            40,42479893  -3,712094845     12366.0\n",
       "            40,42695341  -3,69448847       6321.0\n",
       "            40,43046926  -3,713297939     18321.0\n",
       "2019-09-02  40,405367    -3,701798        68302.0\n",
       "            40,409118    -3,692441         3331.0\n",
       "            40,41110888  -3,696471467      3248.0\n",
       "            40,41289138  -3,707464267     94591.0\n",
       "            40,41338702  -3,697740186     18918.0\n",
       "            40,41373441  -3,723947718      5122.0\n",
       "            40,415111    -3,713569        97810.0\n",
       "            40,41637598  -3,706029098     18306.0\n",
       "            40,41664098  -3,701246554     11603.0\n",
       "            40,418256    -3,697732        38854.0\n",
       "            40,42015321  -3,70435898      53445.0\n",
       "            40,4202703   -3,704325575     35893.0\n",
       "            40,42107227  -3,70049043       6347.0\n",
       "            40,42200905  -3,700891722     33776.0\n",
       "            40,42380314  -3,707379398      2483.0\n",
       "            40,42479893  -3,712094845     13306.0\n",
       "            40,42695341  -3,69448847      14806.0\n",
       "            40,43046926  -3,713297939     14437.0\n",
       "2019-09-03  40,405367    -3,701798        68056.0\n",
       "            40,409118    -3,692441        15508.0\n",
       "            40,41110888  -3,696471467      3360.0\n",
       "            40,41289138  -3,707464267     78822.0\n",
       "            40,41338702  -3,697740186     19119.0\n",
       "            40,41373441  -3,723947718      5126.0\n",
       "            40,415111    -3,713569        93775.0\n",
       "            40,41637598  -3,706029098     18536.0\n",
       "            40,41664098  -3,701246554     14543.0\n",
       "            40,418256    -3,697732        38218.0\n",
       "            40,42015321  -3,70435898      56966.0\n",
       "            40,4202703   -3,704325575     75599.0\n",
       "            40,42107227  -3,70049043       8932.0\n",
       "            40,42200905  -3,700891722     33471.0\n",
       "Name: PEATONES, dtype: float64"
      ]
     },
     "execution_count": 57,
     "metadata": {},
     "output_type": "execute_result"
    }
   ],
   "source": [
    "datos_por_fecha=datos.groupby([\"FECHA\",\"LATITUD\",\"LONGITUD\"]).PEATONES.sum()\n",
    "datos_por_fecha.head(50)"
   ]
  },
  {
   "cell_type": "markdown",
   "id": "66f7ea5f-eda9-49c7-ac25-bfea9042802e",
   "metadata": {},
   "source": [
    "Guardamos los datos procesados"
   ]
  },
  {
   "cell_type": "code",
   "execution_count": 58,
   "id": "c73ce920-565b-4e92-b074-d052e347b185",
   "metadata": {},
   "outputs": [],
   "source": [
    "datos_por_fecha.to_csv(\"peatones_procesado.csv\",sep=\";\")"
   ]
  },
  {
   "cell_type": "markdown",
   "id": "c3bbe77c-52a6-4b8a-beaf-e8667ce9a71f",
   "metadata": {},
   "source": [
    "## Selección de columnas para el entrenamiento"
   ]
  },
  {
   "cell_type": "code",
   "execution_count": 59,
   "id": "e10d81af-498d-4106-8542-9c97914d12b2",
   "metadata": {},
   "outputs": [
    {
     "data": {
      "text/html": [
       "<div>\n",
       "<style scoped>\n",
       "    .dataframe tbody tr th:only-of-type {\n",
       "        vertical-align: middle;\n",
       "    }\n",
       "\n",
       "    .dataframe tbody tr th {\n",
       "        vertical-align: top;\n",
       "    }\n",
       "\n",
       "    .dataframe thead th {\n",
       "        text-align: right;\n",
       "    }\n",
       "</style>\n",
       "<table border=\"1\" class=\"dataframe\">\n",
       "  <thead>\n",
       "    <tr style=\"text-align: right;\">\n",
       "      <th></th>\n",
       "      <th>HORA</th>\n",
       "      <th>PEATONES</th>\n",
       "      <th>NOMBRE_VIAL</th>\n",
       "      <th>Festivo</th>\n",
       "      <th>dia_semana</th>\n",
       "      <th>mes</th>\n",
       "    </tr>\n",
       "  </thead>\n",
       "  <tbody>\n",
       "    <tr>\n",
       "      <th>0</th>\n",
       "      <td>0:00</td>\n",
       "      <td>110.0</td>\n",
       "      <td>Calle Fuencarral</td>\n",
       "      <td>True</td>\n",
       "      <td>Friday</td>\n",
       "      <td>January</td>\n",
       "    </tr>\n",
       "    <tr>\n",
       "      <th>1</th>\n",
       "      <td>0:00</td>\n",
       "      <td>111.0</td>\n",
       "      <td>Calle San Bernardo</td>\n",
       "      <td>True</td>\n",
       "      <td>Friday</td>\n",
       "      <td>January</td>\n",
       "    </tr>\n",
       "    <tr>\n",
       "      <th>2</th>\n",
       "      <td>0:00</td>\n",
       "      <td>15.0</td>\n",
       "      <td>Calle Hortaleza</td>\n",
       "      <td>True</td>\n",
       "      <td>Friday</td>\n",
       "      <td>January</td>\n",
       "    </tr>\n",
       "    <tr>\n",
       "      <th>3</th>\n",
       "      <td>0:00</td>\n",
       "      <td>44.0</td>\n",
       "      <td>Carrera de San Jerónimo</td>\n",
       "      <td>True</td>\n",
       "      <td>Friday</td>\n",
       "      <td>January</td>\n",
       "    </tr>\n",
       "    <tr>\n",
       "      <th>4</th>\n",
       "      <td>0:00</td>\n",
       "      <td>49.0</td>\n",
       "      <td>Calle Atocha</td>\n",
       "      <td>True</td>\n",
       "      <td>Friday</td>\n",
       "      <td>January</td>\n",
       "    </tr>\n",
       "  </tbody>\n",
       "</table>\n",
       "</div>"
      ],
      "text/plain": [
       "   HORA  PEATONES              NOMBRE_VIAL  Festivo dia_semana      mes\n",
       "0  0:00     110.0         Calle Fuencarral     True     Friday  January\n",
       "1  0:00     111.0       Calle San Bernardo     True     Friday  January\n",
       "2  0:00      15.0          Calle Hortaleza     True     Friday  January\n",
       "3  0:00      44.0  Carrera de San Jerónimo     True     Friday  January\n",
       "4  0:00      49.0             Calle Atocha     True     Friday  January"
      ]
     },
     "execution_count": 59,
     "metadata": {},
     "output_type": "execute_result"
    }
   ],
   "source": [
    "df=datos.iloc[:, [1,3,6,12,13,14]] \n",
    "df.head()"
   ]
  },
  {
   "cell_type": "markdown",
   "id": "18987d1b-b146-4546-880b-cce0960fe1fc",
   "metadata": {},
   "source": [
    "## Exploración variable objetivo"
   ]
  },
  {
   "cell_type": "code",
   "execution_count": 60,
   "id": "b45d1264-e67e-429d-a178-d01a85f749d6",
   "metadata": {},
   "outputs": [
    {
     "data": {
      "text/plain": [
       "count    301768.000000\n",
       "mean        363.044249\n",
       "std         885.819526\n",
       "min           0.000000\n",
       "25%          30.000000\n",
       "50%         118.000000\n",
       "75%         331.000000\n",
       "max       50460.000000\n",
       "Name: PEATONES, dtype: float64"
      ]
     },
     "execution_count": 60,
     "metadata": {},
     "output_type": "execute_result"
    },
    {
     "data": {
      "image/png": "[encoded data removed]",
      "text/plain": [
       "<Figure size 432x288 with 1 Axes>"
      ]
     },
     "metadata": {
      "needs_background": "light"
     },
     "output_type": "display_data"
    }
   ],
   "source": [
    "plt.boxplot(df.PEATONES)\n",
    "df.PEATONES.describe()"
   ]
  },
  {
   "cell_type": "code",
   "execution_count": 77,
   "id": "a78ad381-d354-46f9-ae63-766bf94ca61a",
   "metadata": {},
   "outputs": [
    {
     "data": {
      "text/html": [
       "<div>\n",
       "<style scoped>\n",
       "    .dataframe tbody tr th:only-of-type {\n",
       "        vertical-align: middle;\n",
       "    }\n",
       "\n",
       "    .dataframe tbody tr th {\n",
       "        vertical-align: top;\n",
       "    }\n",
       "\n",
       "    .dataframe thead th {\n",
       "        text-align: right;\n",
       "    }\n",
       "</style>\n",
       "<table border=\"1\" class=\"dataframe\">\n",
       "  <thead>\n",
       "    <tr style=\"text-align: right;\">\n",
       "      <th></th>\n",
       "      <th>count</th>\n",
       "      <th>mean</th>\n",
       "      <th>std</th>\n",
       "      <th>min</th>\n",
       "      <th>25%</th>\n",
       "      <th>50%</th>\n",
       "      <th>75%</th>\n",
       "      <th>max</th>\n",
       "    </tr>\n",
       "    <tr>\n",
       "      <th>NOMBRE_VIAL</th>\n",
       "      <th></th>\n",
       "      <th></th>\n",
       "      <th></th>\n",
       "      <th></th>\n",
       "      <th></th>\n",
       "      <th></th>\n",
       "      <th></th>\n",
       "      <th></th>\n",
       "    </tr>\n",
       "  </thead>\n",
       "  <tbody>\n",
       "    <tr>\n",
       "      <th>Alberto Aguilera</th>\n",
       "      <td>13848.0</td>\n",
       "      <td>307.296769</td>\n",
       "      <td>454.500754</td>\n",
       "      <td>0.0</td>\n",
       "      <td>37.0</td>\n",
       "      <td>154.0</td>\n",
       "      <td>400.00</td>\n",
       "      <td>8463.0</td>\n",
       "    </tr>\n",
       "    <tr>\n",
       "      <th>Calle Alcalá</th>\n",
       "      <td>13848.0</td>\n",
       "      <td>407.977639</td>\n",
       "      <td>703.949909</td>\n",
       "      <td>0.0</td>\n",
       "      <td>83.0</td>\n",
       "      <td>165.0</td>\n",
       "      <td>348.00</td>\n",
       "      <td>7630.0</td>\n",
       "    </tr>\n",
       "    <tr>\n",
       "      <th>Calle Atocha</th>\n",
       "      <td>13831.0</td>\n",
       "      <td>203.897043</td>\n",
       "      <td>263.971841</td>\n",
       "      <td>0.0</td>\n",
       "      <td>58.0</td>\n",
       "      <td>141.0</td>\n",
       "      <td>248.00</td>\n",
       "      <td>2920.0</td>\n",
       "    </tr>\n",
       "    <tr>\n",
       "      <th>Calle Bailén</th>\n",
       "      <td>13424.0</td>\n",
       "      <td>321.737079</td>\n",
       "      <td>1272.156923</td>\n",
       "      <td>0.0</td>\n",
       "      <td>10.0</td>\n",
       "      <td>65.0</td>\n",
       "      <td>203.00</td>\n",
       "      <td>50460.0</td>\n",
       "    </tr>\n",
       "    <tr>\n",
       "      <th>Calle Fuencarral</th>\n",
       "      <td>42552.0</td>\n",
       "      <td>690.007687</td>\n",
       "      <td>1626.023250</td>\n",
       "      <td>0.0</td>\n",
       "      <td>26.0</td>\n",
       "      <td>138.0</td>\n",
       "      <td>581.00</td>\n",
       "      <td>26751.0</td>\n",
       "    </tr>\n",
       "    <tr>\n",
       "      <th>Calle Génova</th>\n",
       "      <td>18260.0</td>\n",
       "      <td>229.877416</td>\n",
       "      <td>301.419490</td>\n",
       "      <td>0.0</td>\n",
       "      <td>50.0</td>\n",
       "      <td>129.0</td>\n",
       "      <td>286.00</td>\n",
       "      <td>4485.0</td>\n",
       "    </tr>\n",
       "    <tr>\n",
       "      <th>Calle Hortaleza</th>\n",
       "      <td>13848.0</td>\n",
       "      <td>200.179172</td>\n",
       "      <td>297.085202</td>\n",
       "      <td>0.0</td>\n",
       "      <td>18.0</td>\n",
       "      <td>95.0</td>\n",
       "      <td>259.00</td>\n",
       "      <td>4485.0</td>\n",
       "    </tr>\n",
       "    <tr>\n",
       "      <th>Calle Huertas</th>\n",
       "      <td>13848.0</td>\n",
       "      <td>122.737002</td>\n",
       "      <td>253.620122</td>\n",
       "      <td>0.0</td>\n",
       "      <td>10.0</td>\n",
       "      <td>32.0</td>\n",
       "      <td>87.00</td>\n",
       "      <td>2611.0</td>\n",
       "    </tr>\n",
       "    <tr>\n",
       "      <th>Calle Mayor</th>\n",
       "      <td>13847.0</td>\n",
       "      <td>330.120669</td>\n",
       "      <td>607.088466</td>\n",
       "      <td>0.0</td>\n",
       "      <td>16.0</td>\n",
       "      <td>113.0</td>\n",
       "      <td>312.00</td>\n",
       "      <td>6544.0</td>\n",
       "    </tr>\n",
       "    <tr>\n",
       "      <th>Calle Princesa</th>\n",
       "      <td>16056.0</td>\n",
       "      <td>380.108450</td>\n",
       "      <td>612.315886</td>\n",
       "      <td>0.0</td>\n",
       "      <td>35.0</td>\n",
       "      <td>143.0</td>\n",
       "      <td>451.25</td>\n",
       "      <td>8572.0</td>\n",
       "    </tr>\n",
       "    <tr>\n",
       "      <th>Calle San Bernardo</th>\n",
       "      <td>13834.0</td>\n",
       "      <td>134.443689</td>\n",
       "      <td>207.336659</td>\n",
       "      <td>0.0</td>\n",
       "      <td>24.0</td>\n",
       "      <td>74.0</td>\n",
       "      <td>162.00</td>\n",
       "      <td>4485.0</td>\n",
       "    </tr>\n",
       "    <tr>\n",
       "      <th>Calle Toledo</th>\n",
       "      <td>13665.0</td>\n",
       "      <td>404.039889</td>\n",
       "      <td>615.337151</td>\n",
       "      <td>0.0</td>\n",
       "      <td>24.0</td>\n",
       "      <td>187.0</td>\n",
       "      <td>594.00</td>\n",
       "      <td>8648.0</td>\n",
       "    </tr>\n",
       "    <tr>\n",
       "      <th>Carrera de San Jerónimo</th>\n",
       "      <td>13848.0</td>\n",
       "      <td>317.164362</td>\n",
       "      <td>413.051745</td>\n",
       "      <td>0.0</td>\n",
       "      <td>43.0</td>\n",
       "      <td>151.0</td>\n",
       "      <td>418.00</td>\n",
       "      <td>3499.0</td>\n",
       "    </tr>\n",
       "    <tr>\n",
       "      <th>Gran Vía</th>\n",
       "      <td>27679.0</td>\n",
       "      <td>638.494945</td>\n",
       "      <td>1171.063125</td>\n",
       "      <td>0.0</td>\n",
       "      <td>21.0</td>\n",
       "      <td>176.0</td>\n",
       "      <td>730.00</td>\n",
       "      <td>14292.0</td>\n",
       "    </tr>\n",
       "    <tr>\n",
       "      <th>Madrid Río. Puente de Segovia con Paseo Ermita del Santo Senda peatonal</th>\n",
       "      <td>15928.0</td>\n",
       "      <td>117.538423</td>\n",
       "      <td>146.350517</td>\n",
       "      <td>0.0</td>\n",
       "      <td>6.0</td>\n",
       "      <td>60.0</td>\n",
       "      <td>183.00</td>\n",
       "      <td>2122.0</td>\n",
       "    </tr>\n",
       "    <tr>\n",
       "      <th>Paseo de Recoletos</th>\n",
       "      <td>13117.0</td>\n",
       "      <td>155.560407</td>\n",
       "      <td>250.637410</td>\n",
       "      <td>0.0</td>\n",
       "      <td>40.0</td>\n",
       "      <td>88.0</td>\n",
       "      <td>180.00</td>\n",
       "      <td>4479.0</td>\n",
       "    </tr>\n",
       "    <tr>\n",
       "      <th>Plaza del Emperador Carlos V</th>\n",
       "      <td>16990.0</td>\n",
       "      <td>301.026927</td>\n",
       "      <td>576.781708</td>\n",
       "      <td>0.0</td>\n",
       "      <td>31.0</td>\n",
       "      <td>147.0</td>\n",
       "      <td>357.00</td>\n",
       "      <td>14417.0</td>\n",
       "    </tr>\n",
       "    <tr>\n",
       "      <th>Ronda de Valencia</th>\n",
       "      <td>13345.0</td>\n",
       "      <td>399.627291</td>\n",
       "      <td>990.475425</td>\n",
       "      <td>0.0</td>\n",
       "      <td>93.0</td>\n",
       "      <td>176.0</td>\n",
       "      <td>325.00</td>\n",
       "      <td>32014.0</td>\n",
       "    </tr>\n",
       "  </tbody>\n",
       "</table>\n",
       "</div>"
      ],
      "text/plain": [
       "                                                      count        mean  \\\n",
       "NOMBRE_VIAL                                                               \n",
       "Alberto Aguilera                                    13848.0  307.296769   \n",
       "Calle Alcalá                                        13848.0  407.977639   \n",
       "Calle Atocha                                        13831.0  203.897043   \n",
       "Calle Bailén                                        13424.0  321.737079   \n",
       "Calle Fuencarral                                    42552.0  690.007687   \n",
       "Calle Génova                                        18260.0  229.877416   \n",
       "Calle Hortaleza                                     13848.0  200.179172   \n",
       "Calle Huertas                                       13848.0  122.737002   \n",
       "Calle Mayor                                         13847.0  330.120669   \n",
       "Calle Princesa                                      16056.0  380.108450   \n",
       "Calle San Bernardo                                  13834.0  134.443689   \n",
       "Calle Toledo                                        13665.0  404.039889   \n",
       "Carrera de San Jerónimo                             13848.0  317.164362   \n",
       "Gran Vía                                            27679.0  638.494945   \n",
       "Madrid Río. Puente de Segovia con Paseo Ermita ...  15928.0  117.538423   \n",
       "Paseo de Recoletos                                  13117.0  155.560407   \n",
       "Plaza del Emperador Carlos V                        16990.0  301.026927   \n",
       "Ronda de Valencia                                   13345.0  399.627291   \n",
       "\n",
       "                                                            std  min   25%  \\\n",
       "NOMBRE_VIAL                                                                  \n",
       "Alberto Aguilera                                     454.500754  0.0  37.0   \n",
       "Calle Alcalá                                         703.949909  0.0  83.0   \n",
       "Calle Atocha                                         263.971841  0.0  58.0   \n",
       "Calle Bailén                                        1272.156923  0.0  10.0   \n",
       "Calle Fuencarral                                    1626.023250  0.0  26.0   \n",
       "Calle Génova                                         301.419490  0.0  50.0   \n",
       "Calle Hortaleza                                      297.085202  0.0  18.0   \n",
       "Calle Huertas                                        253.620122  0.0  10.0   \n",
       "Calle Mayor                                          607.088466  0.0  16.0   \n",
       "Calle Princesa                                       612.315886  0.0  35.0   \n",
       "Calle San Bernardo                                   207.336659  0.0  24.0   \n",
       "Calle Toledo                                         615.337151  0.0  24.0   \n",
       "Carrera de San Jerónimo                              413.051745  0.0  43.0   \n",
       "Gran Vía                                            1171.063125  0.0  21.0   \n",
       "Madrid Río. Puente de Segovia con Paseo Ermita ...   146.350517  0.0   6.0   \n",
       "Paseo de Recoletos                                   250.637410  0.0  40.0   \n",
       "Plaza del Emperador Carlos V                         576.781708  0.0  31.0   \n",
       "Ronda de Valencia                                    990.475425  0.0  93.0   \n",
       "\n",
       "                                                      50%     75%      max  \n",
       "NOMBRE_VIAL                                                                 \n",
       "Alberto Aguilera                                    154.0  400.00   8463.0  \n",
       "Calle Alcalá                                        165.0  348.00   7630.0  \n",
       "Calle Atocha                                        141.0  248.00   2920.0  \n",
       "Calle Bailén                                         65.0  203.00  50460.0  \n",
       "Calle Fuencarral                                    138.0  581.00  26751.0  \n",
       "Calle Génova                                        129.0  286.00   4485.0  \n",
       "Calle Hortaleza                                      95.0  259.00   4485.0  \n",
       "Calle Huertas                                        32.0   87.00   2611.0  \n",
       "Calle Mayor                                         113.0  312.00   6544.0  \n",
       "Calle Princesa                                      143.0  451.25   8572.0  \n",
       "Calle San Bernardo                                   74.0  162.00   4485.0  \n",
       "Calle Toledo                                        187.0  594.00   8648.0  \n",
       "Carrera de San Jerónimo                             151.0  418.00   3499.0  \n",
       "Gran Vía                                            176.0  730.00  14292.0  \n",
       "Madrid Río. Puente de Segovia con Paseo Ermita ...   60.0  183.00   2122.0  \n",
       "Paseo de Recoletos                                   88.0  180.00   4479.0  \n",
       "Plaza del Emperador Carlos V                        147.0  357.00  14417.0  \n",
       "Ronda de Valencia                                   176.0  325.00  32014.0  "
      ]
     },
     "execution_count": 77,
     "metadata": {},
     "output_type": "execute_result"
    }
   ],
   "source": [
    "df.groupby('NOMBRE_VIAL').PEATONES.describe()\n",
    "plt.boxplot(df.PEATONES)"
   ]
  },
  {
   "cell_type": "code",
   "execution_count": 85,
   "id": "c6e23c5d-4328-4cdb-8615-8c4e29295518",
   "metadata": {},
   "outputs": [
    {
     "data": {
      "text/plain": [
       "<seaborn.axisgrid.FacetGrid at 0x21aee1942e0>"
      ]
     },
     "execution_count": 85,
     "metadata": {},
     "output_type": "execute_result"
    },
    {
     "data": {
      "image/png": "[encoded data removed]",
      "text/plain": [
       "<Figure size 360x360 with 1 Axes>"
      ]
     },
     "metadata": {
      "needs_background": "light"
     },
     "output_type": "display_data"
    }
   ],
   "source": [
    "sns.displot(df['PEATONES'],color='orange')"
   ]
  },
  {
   "cell_type": "markdown",
   "id": "f59b2b67-6e8d-45d5-a5c7-99d39bd47c13",
   "metadata": {},
   "source": [
    "Obtenemos ruido de los registros con muchos peatones. Procedemos a separar en dos poblaciones"
   ]
  },
  {
   "cell_type": "code",
   "execution_count": 61,
   "id": "e5e4d982-2f9d-439f-95db-4248f5decebb",
   "metadata": {},
   "outputs": [],
   "source": [
    "pob1=df[df['PEATONES']<500]\n",
    "aux=df[df['PEATONES']>500]\n",
    "pob2=aux[aux['PEATONES']<2000]\n",
    "pob3=df[df['PEATONES']>=2000]"
   ]
  },
  {
   "cell_type": "code",
   "execution_count": 129,
   "id": "65c4a37c-412b-4b91-987b-9fcf6aa775f8",
   "metadata": {},
   "outputs": [
    {
     "data": {
      "text/plain": [
       "count    249026.000000\n",
       "mean        122.892469\n",
       "std         124.912835\n",
       "min           0.000000\n",
       "25%          21.000000\n",
       "50%          79.000000\n",
       "75%         191.000000\n",
       "max         499.000000\n",
       "Name: PEATONES, dtype: float64"
      ]
     },
     "execution_count": 129,
     "metadata": {},
     "output_type": "execute_result"
    },
    {
     "data": {
      "image/png": "[encoded data removed]",
      "text/plain": [
       "<Figure size 432x288 with 1 Axes>"
      ]
     },
     "metadata": {
      "needs_background": "light"
     },
     "output_type": "display_data"
    }
   ],
   "source": [
    "plt.boxplot(pob1['PEATONES'])\n",
    "pob1['PEATONES'].describe()"
   ]
  },
  {
   "cell_type": "code",
   "execution_count": 130,
   "id": "c77717aa-2d0a-4748-8966-d85f44ecea00",
   "metadata": {},
   "outputs": [
    {
     "data": {
      "text/plain": [
       "count    42837.000000\n",
       "mean       936.467470\n",
       "std        385.068927\n",
       "min        501.000000\n",
       "25%        629.000000\n",
       "50%        815.000000\n",
       "75%       1151.000000\n",
       "max       1999.000000\n",
       "Name: PEATONES, dtype: float64"
      ]
     },
     "execution_count": 130,
     "metadata": {},
     "output_type": "execute_result"
    },
    {
     "data": {
      "image/png": "[encoded data removed]",
      "text/plain": [
       "<Figure size 432x288 with 1 Axes>"
      ]
     },
     "metadata": {
      "needs_background": "light"
     },
     "output_type": "display_data"
    }
   ],
   "source": [
    "plt.boxplot(pob2['PEATONES'])\n",
    "pob2['PEATONES'].describe()"
   ]
  },
  {
   "cell_type": "code",
   "execution_count": 132,
   "id": "ed37c994-3d8c-41eb-bb5c-3d262a92e46a",
   "metadata": {},
   "outputs": [
    {
     "data": {
      "text/plain": [
       "count     9797.000000\n",
       "mean      3958.585281\n",
       "std       2700.662515\n",
       "min       2000.000000\n",
       "25%       2408.000000\n",
       "50%       3053.000000\n",
       "75%       4407.000000\n",
       "max      50460.000000\n",
       "Name: PEATONES, dtype: float64"
      ]
     },
     "execution_count": 132,
     "metadata": {},
     "output_type": "execute_result"
    },
    {
     "data": {
      "image/png": "[encoded data removed]",
      "text/plain": [
       "<Figure size 432x288 with 1 Axes>"
      ]
     },
     "metadata": {
      "needs_background": "light"
     },
     "output_type": "display_data"
    }
   ],
   "source": [
    "plt.boxplot(pob3['PEATONES'])\n",
    "pob3['PEATONES'].describe()"
   ]
  },
  {
   "cell_type": "code",
   "execution_count": 135,
   "id": "c27b0e5d-85ce-4f75-b0b3-a3f687640a3d",
   "metadata": {},
   "outputs": [
    {
     "data": {
      "text/html": [
       "<div>\n",
       "<style scoped>\n",
       "    .dataframe tbody tr th:only-of-type {\n",
       "        vertical-align: middle;\n",
       "    }\n",
       "\n",
       "    .dataframe tbody tr th {\n",
       "        vertical-align: top;\n",
       "    }\n",
       "\n",
       "    .dataframe thead th {\n",
       "        text-align: right;\n",
       "    }\n",
       "</style>\n",
       "<table border=\"1\" class=\"dataframe\">\n",
       "  <thead>\n",
       "    <tr style=\"text-align: right;\">\n",
       "      <th></th>\n",
       "      <th>count</th>\n",
       "      <th>mean</th>\n",
       "      <th>std</th>\n",
       "      <th>min</th>\n",
       "      <th>25%</th>\n",
       "      <th>50%</th>\n",
       "      <th>75%</th>\n",
       "      <th>max</th>\n",
       "    </tr>\n",
       "    <tr>\n",
       "      <th>Festivo</th>\n",
       "      <th></th>\n",
       "      <th></th>\n",
       "      <th></th>\n",
       "      <th></th>\n",
       "      <th></th>\n",
       "      <th></th>\n",
       "      <th></th>\n",
       "      <th></th>\n",
       "    </tr>\n",
       "  </thead>\n",
       "  <tbody>\n",
       "    <tr>\n",
       "      <th>False</th>\n",
       "      <td>9362.0</td>\n",
       "      <td>3943.218757</td>\n",
       "      <td>2706.172665</td>\n",
       "      <td>2000.0</td>\n",
       "      <td>2402.0</td>\n",
       "      <td>3048.0</td>\n",
       "      <td>4366.75</td>\n",
       "      <td>50460.0</td>\n",
       "    </tr>\n",
       "    <tr>\n",
       "      <th>True</th>\n",
       "      <td>435.0</td>\n",
       "      <td>4289.301149</td>\n",
       "      <td>2559.895957</td>\n",
       "      <td>2000.0</td>\n",
       "      <td>2488.0</td>\n",
       "      <td>3299.0</td>\n",
       "      <td>5275.50</td>\n",
       "      <td>16785.0</td>\n",
       "    </tr>\n",
       "  </tbody>\n",
       "</table>\n",
       "</div>"
      ],
      "text/plain": [
       "          count         mean          std     min     25%     50%      75%  \\\n",
       "Festivo                                                                      \n",
       "False    9362.0  3943.218757  2706.172665  2000.0  2402.0  3048.0  4366.75   \n",
       "True      435.0  4289.301149  2559.895957  2000.0  2488.0  3299.0  5275.50   \n",
       "\n",
       "             max  \n",
       "Festivo           \n",
       "False    50460.0  \n",
       "True     16785.0  "
      ]
     },
     "execution_count": 135,
     "metadata": {},
     "output_type": "execute_result"
    }
   ],
   "source": [
    "pob3.groupby('Festivo').PEATONES.describe()"
   ]
  },
  {
   "cell_type": "markdown",
   "id": "be826715-ce38-492d-9b44-7fa0f502046e",
   "metadata": {},
   "source": [
    "## Codificación One-Hot"
   ]
  },
  {
   "cell_type": "code",
   "execution_count": 62,
   "id": "0e9fb15b-63ab-4aef-8053-5990e86b4f9e",
   "metadata": {},
   "outputs": [
    {
     "data": {
      "text/html": [
       "<div>\n",
       "<style scoped>\n",
       "    .dataframe tbody tr th:only-of-type {\n",
       "        vertical-align: middle;\n",
       "    }\n",
       "\n",
       "    .dataframe tbody tr th {\n",
       "        vertical-align: top;\n",
       "    }\n",
       "\n",
       "    .dataframe thead th {\n",
       "        text-align: right;\n",
       "    }\n",
       "</style>\n",
       "<table border=\"1\" class=\"dataframe\">\n",
       "  <thead>\n",
       "    <tr style=\"text-align: right;\">\n",
       "      <th></th>\n",
       "      <th>PEATONES</th>\n",
       "      <th>Festivo</th>\n",
       "      <th>HORA_0:00</th>\n",
       "      <th>HORA_10:00</th>\n",
       "      <th>HORA_11:00</th>\n",
       "      <th>HORA_12:00</th>\n",
       "      <th>HORA_13:00</th>\n",
       "      <th>HORA_14:00</th>\n",
       "      <th>HORA_15:00</th>\n",
       "      <th>HORA_16:00</th>\n",
       "      <th>...</th>\n",
       "      <th>mes_December</th>\n",
       "      <th>mes_February</th>\n",
       "      <th>mes_January</th>\n",
       "      <th>mes_July</th>\n",
       "      <th>mes_June</th>\n",
       "      <th>mes_March</th>\n",
       "      <th>mes_May</th>\n",
       "      <th>mes_November</th>\n",
       "      <th>mes_October</th>\n",
       "      <th>mes_September</th>\n",
       "    </tr>\n",
       "  </thead>\n",
       "  <tbody>\n",
       "    <tr>\n",
       "      <th>0</th>\n",
       "      <td>110.0</td>\n",
       "      <td>True</td>\n",
       "      <td>1</td>\n",
       "      <td>0</td>\n",
       "      <td>0</td>\n",
       "      <td>0</td>\n",
       "      <td>0</td>\n",
       "      <td>0</td>\n",
       "      <td>0</td>\n",
       "      <td>0</td>\n",
       "      <td>...</td>\n",
       "      <td>0</td>\n",
       "      <td>0</td>\n",
       "      <td>1</td>\n",
       "      <td>0</td>\n",
       "      <td>0</td>\n",
       "      <td>0</td>\n",
       "      <td>0</td>\n",
       "      <td>0</td>\n",
       "      <td>0</td>\n",
       "      <td>0</td>\n",
       "    </tr>\n",
       "    <tr>\n",
       "      <th>1</th>\n",
       "      <td>111.0</td>\n",
       "      <td>True</td>\n",
       "      <td>1</td>\n",
       "      <td>0</td>\n",
       "      <td>0</td>\n",
       "      <td>0</td>\n",
       "      <td>0</td>\n",
       "      <td>0</td>\n",
       "      <td>0</td>\n",
       "      <td>0</td>\n",
       "      <td>...</td>\n",
       "      <td>0</td>\n",
       "      <td>0</td>\n",
       "      <td>1</td>\n",
       "      <td>0</td>\n",
       "      <td>0</td>\n",
       "      <td>0</td>\n",
       "      <td>0</td>\n",
       "      <td>0</td>\n",
       "      <td>0</td>\n",
       "      <td>0</td>\n",
       "    </tr>\n",
       "    <tr>\n",
       "      <th>2</th>\n",
       "      <td>15.0</td>\n",
       "      <td>True</td>\n",
       "      <td>1</td>\n",
       "      <td>0</td>\n",
       "      <td>0</td>\n",
       "      <td>0</td>\n",
       "      <td>0</td>\n",
       "      <td>0</td>\n",
       "      <td>0</td>\n",
       "      <td>0</td>\n",
       "      <td>...</td>\n",
       "      <td>0</td>\n",
       "      <td>0</td>\n",
       "      <td>1</td>\n",
       "      <td>0</td>\n",
       "      <td>0</td>\n",
       "      <td>0</td>\n",
       "      <td>0</td>\n",
       "      <td>0</td>\n",
       "      <td>0</td>\n",
       "      <td>0</td>\n",
       "    </tr>\n",
       "    <tr>\n",
       "      <th>3</th>\n",
       "      <td>44.0</td>\n",
       "      <td>True</td>\n",
       "      <td>1</td>\n",
       "      <td>0</td>\n",
       "      <td>0</td>\n",
       "      <td>0</td>\n",
       "      <td>0</td>\n",
       "      <td>0</td>\n",
       "      <td>0</td>\n",
       "      <td>0</td>\n",
       "      <td>...</td>\n",
       "      <td>0</td>\n",
       "      <td>0</td>\n",
       "      <td>1</td>\n",
       "      <td>0</td>\n",
       "      <td>0</td>\n",
       "      <td>0</td>\n",
       "      <td>0</td>\n",
       "      <td>0</td>\n",
       "      <td>0</td>\n",
       "      <td>0</td>\n",
       "    </tr>\n",
       "    <tr>\n",
       "      <th>4</th>\n",
       "      <td>49.0</td>\n",
       "      <td>True</td>\n",
       "      <td>1</td>\n",
       "      <td>0</td>\n",
       "      <td>0</td>\n",
       "      <td>0</td>\n",
       "      <td>0</td>\n",
       "      <td>0</td>\n",
       "      <td>0</td>\n",
       "      <td>0</td>\n",
       "      <td>...</td>\n",
       "      <td>0</td>\n",
       "      <td>0</td>\n",
       "      <td>1</td>\n",
       "      <td>0</td>\n",
       "      <td>0</td>\n",
       "      <td>0</td>\n",
       "      <td>0</td>\n",
       "      <td>0</td>\n",
       "      <td>0</td>\n",
       "      <td>0</td>\n",
       "    </tr>\n",
       "  </tbody>\n",
       "</table>\n",
       "<p>5 rows × 63 columns</p>\n",
       "</div>"
      ],
      "text/plain": [
       "   PEATONES  Festivo  HORA_0:00  HORA_10:00  HORA_11:00  HORA_12:00  \\\n",
       "0     110.0     True          1           0           0           0   \n",
       "1     111.0     True          1           0           0           0   \n",
       "2      15.0     True          1           0           0           0   \n",
       "3      44.0     True          1           0           0           0   \n",
       "4      49.0     True          1           0           0           0   \n",
       "\n",
       "   HORA_13:00  HORA_14:00  HORA_15:00  HORA_16:00  ...  mes_December  \\\n",
       "0           0           0           0           0  ...             0   \n",
       "1           0           0           0           0  ...             0   \n",
       "2           0           0           0           0  ...             0   \n",
       "3           0           0           0           0  ...             0   \n",
       "4           0           0           0           0  ...             0   \n",
       "\n",
       "   mes_February  mes_January  mes_July  mes_June  mes_March  mes_May  \\\n",
       "0             0            1         0         0          0        0   \n",
       "1             0            1         0         0          0        0   \n",
       "2             0            1         0         0          0        0   \n",
       "3             0            1         0         0          0        0   \n",
       "4             0            1         0         0          0        0   \n",
       "\n",
       "   mes_November  mes_October  mes_September  \n",
       "0             0            0              0  \n",
       "1             0            0              0  \n",
       "2             0            0              0  \n",
       "3             0            0              0  \n",
       "4             0            0              0  \n",
       "\n",
       "[5 rows x 63 columns]"
      ]
     },
     "execution_count": 62,
     "metadata": {},
     "output_type": "execute_result"
    }
   ],
   "source": [
    "df = pd.get_dummies(df)\n",
    "df.head()"
   ]
  },
  {
   "cell_type": "markdown",
   "id": "eebbe5c9-4c18-4ef1-9830-10ec86db4fc0",
   "metadata": {},
   "source": [
    "## Resto de tipos"
   ]
  },
  {
   "cell_type": "code",
   "execution_count": 63,
   "id": "953326f9-b488-4aaf-a3c7-bc3cb32201ab",
   "metadata": {},
   "outputs": [
    {
     "data": {
      "text/plain": [
       "PEATONES         float64\n",
       "Festivo             bool\n",
       "HORA_0:00          uint8\n",
       "HORA_10:00         uint8\n",
       "HORA_11:00         uint8\n",
       "                  ...   \n",
       "mes_March          uint8\n",
       "mes_May            uint8\n",
       "mes_November       uint8\n",
       "mes_October        uint8\n",
       "mes_September      uint8\n",
       "Length: 63, dtype: object"
      ]
     },
     "execution_count": 63,
     "metadata": {},
     "output_type": "execute_result"
    }
   ],
   "source": [
    "df= df.infer_objects()\n",
    "df.dtypes"
   ]
  },
  {
   "cell_type": "code",
   "execution_count": 64,
   "id": "923896ec-8290-458c-acb9-563f10674e56",
   "metadata": {},
   "outputs": [
    {
     "data": {
      "text/plain": [
       "PEATONES         int32\n",
       "Festivo           bool\n",
       "HORA_0:00        uint8\n",
       "HORA_10:00       uint8\n",
       "HORA_11:00       uint8\n",
       "                 ...  \n",
       "mes_March        uint8\n",
       "mes_May          uint8\n",
       "mes_November     uint8\n",
       "mes_October      uint8\n",
       "mes_September    uint8\n",
       "Length: 63, dtype: object"
      ]
     },
     "execution_count": 64,
     "metadata": {},
     "output_type": "execute_result"
    }
   ],
   "source": [
    "df[\"PEATONES\"]=df[\"PEATONES\"].astype(int)\n",
    "df.dtypes"
   ]
  },
  {
   "cell_type": "markdown",
   "id": "c5018ac6-edd3-47bf-b0e6-a84a43ea8383",
   "metadata": {},
   "source": [
    "Dividamos en 3 modelos"
   ]
  },
  {
   "cell_type": "code",
   "execution_count": 66,
   "id": "6cd4aa87-9024-4767-898d-d807e4561d1c",
   "metadata": {},
   "outputs": [],
   "source": [
    "pob1=df[df['PEATONES']<500]\n",
    "aux=df[df['PEATONES']>500]\n",
    "pob2=aux[aux['PEATONES']<2000]\n",
    "pob3=df[df['PEATONES']>=2000]"
   ]
  },
  {
   "cell_type": "markdown",
   "id": "e32fdeb6-df5d-46b8-8719-5a632b3eddac",
   "metadata": {},
   "source": [
    "## Selección etiqueta y conversión a matriz"
   ]
  },
  {
   "cell_type": "code",
   "execution_count": 68,
   "id": "4792100b-60ca-4fcd-afc2-f330e70de487",
   "metadata": {},
   "outputs": [],
   "source": [
    "#pob1\n",
    "# Label\n",
    "pob1_labels = np.array(pob1['PEATONES'])\n",
    "# Eliminamos el label\n",
    "pob1= pob1.drop('PEATONES', axis = 1)\n",
    "# Nombres columnas\n",
    "pob_1feature_list = list(pob1.columns)\n",
    "# Convertimos en matriz\n",
    "pob1 = np.array(pob1)\n",
    "\n",
    "#pob2\n",
    "# Label\n",
    "pob2_labels = np.array(pob2['PEATONES'])\n",
    "# Eliminamos el label\n",
    "pob2= pob2.drop('PEATONES', axis = 1)\n",
    "# Nombres columnas\n",
    "pob_2feature_list = list(pob2.columns)\n",
    "# Convertimos en matriz\n",
    "pob2 = np.array(pob2)\n",
    "\n",
    "#pob3\n",
    "# Label\n",
    "pob3_labels = np.array(pob3['PEATONES'])\n",
    "# Eliminamos el label\n",
    "pob3= pob3.drop('PEATONES', axis = 1)\n",
    "# Nombres columnas\n",
    "pob_3feature_list = list(pob3.columns)\n",
    "# Convertimos en matriz\n",
    "pob3 = np.array(pob3)"
   ]
  },
  {
   "cell_type": "markdown",
   "id": "3495ff99-a810-40ad-a8d2-1d810bf3615f",
   "metadata": {},
   "source": [
    "## Train y test"
   ]
  },
  {
   "cell_type": "code",
   "execution_count": 69,
   "id": "906f5f07-106d-45b7-b5b6-6c2f6e7fac30",
   "metadata": {},
   "outputs": [],
   "source": [
    "#pob1\n",
    "p1_train_features, p1_test_features, p1_train_labels, p1_test_labels = train_test_split(pob1, pob1_labels, test_size = 0.2, random_state = 42)\n",
    "#pob2\n",
    "p2_train_features, p2_test_features, p2_train_labels, p2_test_labels = train_test_split(pob2, pob2_labels, test_size = 0.2, random_state = 42)\n",
    "#pob3\n",
    "p3_train_features, p3_test_features, p3_train_labels, p3_test_labels = train_test_split(pob3, pob3_labels, test_size = 0.2, random_state = 42)"
   ]
  },
  {
   "cell_type": "code",
   "execution_count": 70,
   "id": "048aca4b-eeb8-41c7-b1a0-af96612f7d26",
   "metadata": {},
   "outputs": [
    {
     "name": "stdout",
     "output_type": "stream",
     "text": [
      "Población 1:\n",
      "Training Features tamaño: (199220, 62)\n",
      "Training Labels tamaño: (199220,)\n",
      "Testing Features tamaño: (49806, 62)\n",
      "Testing Labels tamaño: (49806,)\n",
      "\n",
      "Población 2:\n",
      "Training Features tamaño: (34269, 62)\n",
      "Training Labels tamaño: (34269,)\n",
      "Testing Features tamaño: (8568, 62)\n",
      "Testing Labels tamaño: (8568,)\n",
      "\n",
      "Población 3:\n",
      "Training Features tamaño: (7837, 62)\n",
      "Training Labels tamaño: (7837,)\n",
      "Testing Features tamaño: (1960, 62)\n",
      "Testing Labels tamaño: (1960,)\n"
     ]
    }
   ],
   "source": [
    "print('Población 1:')\n",
    "print('Training Features tamaño:', p1_train_features.shape)\n",
    "print('Training Labels tamaño:', p1_train_labels.shape)\n",
    "print('Testing Features tamaño:', p1_test_features.shape)\n",
    "print('Testing Labels tamaño:', p1_test_labels.shape)\n",
    "print('\\nPoblación 2:')\n",
    "print('Training Features tamaño:', p2_train_features.shape)\n",
    "print('Training Labels tamaño:', p2_train_labels.shape)\n",
    "print('Testing Features tamaño:', p2_test_features.shape)\n",
    "print('Testing Labels tamaño:', p2_test_labels.shape)\n",
    "print('\\nPoblación 3:')\n",
    "print('Training Features tamaño:', p3_train_features.shape)\n",
    "print('Training Labels tamaño:', p3_train_labels.shape)\n",
    "print('Testing Features tamaño:', p3_test_features.shape)\n",
    "print('Testing Labels tamaño:', p3_test_labels.shape)"
   ]
  },
  {
   "cell_type": "markdown",
   "id": "1e500f35-a5e7-4e13-bd8e-6dc012fd0b2e",
   "metadata": {},
   "source": [
    "# Entrenamiento"
   ]
  },
  {
   "cell_type": "code",
   "execution_count": 71,
   "id": "f9d060b1-1b9e-42ea-a361-a9e4e13fd760",
   "metadata": {},
   "outputs": [],
   "source": [
    "# Modelo pob1\n",
    "pob1_rf = RandomForestRegressor(n_estimators = 3000, random_state = 42)\n",
    "# Entrenamiento\n",
    "pob1_rf.fit(p1_train_features, p1_train_labels);\n",
    "\n",
    "# Modelo pob2\n",
    "pob2_rf = RandomForestRegressor(n_estimators = 1000, random_state = 42)\n",
    "# Entrenamiento\n",
    "pob2_rf.fit(p2_train_features, p2_train_labels);\n",
    "\n",
    "# Modelo pob3\n",
    "pob3_rf = RandomForestRegressor(n_estimators = 1000, random_state = 42)\n",
    "# Entrenamiento\n",
    "pob3_rf.fit(p3_train_features, p3_train_labels);"
   ]
  },
  {
   "cell_type": "code",
   "execution_count": 72,
   "id": "b9621727-828e-42e3-97fa-c4655eb3b5b9",
   "metadata": {},
   "outputs": [
    {
     "name": "stdout",
     "output_type": "stream",
     "text": [
      "Población 1 (menores a 600): --> Mean Absolute Error: 68.02 peatones.\n",
      "Población 2 (mayores a 500): --> Mean Absolute Error: 222.85 peatones.\n",
      "Población 3 (mayores a 1000): --> Mean Absolute Error: 1071.76 peatones.\n"
     ]
    }
   ],
   "source": [
    "#pob1\n",
    "# Testeo\n",
    "p1_predictions = pob1_rf.predict(p1_test_features)\n",
    "# Cálculo de errores absolutos\n",
    "p1_errors = abs(p1_predictions - p1_test_labels)\n",
    "# MAE\n",
    "print('Población 1 (menores a 600): --> Mean Absolute Error:', round(np.mean(p1_errors), 2), 'peatones.')\n",
    "\n",
    "#pob2\n",
    "# Testeo\n",
    "p2_predictions = pob2_rf.predict(p2_test_features)\n",
    "# Cálculo de errores absolutos\n",
    "p2_errors = abs(p2_predictions - p2_test_labels)\n",
    "# MAE\n",
    "print('Población 2 (mayores a 500): --> Mean Absolute Error:', round(np.mean(p2_errors), 2), 'peatones.')\n",
    "\n",
    "#pob3\n",
    "# Testeo\n",
    "p3_predictions = pob3_rf.predict(p3_test_features)\n",
    "# Cálculo de errores absolutos\n",
    "p3_errors = abs(p3_predictions - p3_test_labels)\n",
    "# MAE\n",
    "print('Población 3 (mayores a 1000): --> Mean Absolute Error:', round(np.mean(p3_errors), 2), 'peatones.')"
   ]
  },
  {
   "cell_type": "code",
   "execution_count": null,
   "id": "11481fc2-a94a-4720-b30c-bda19ba68017",
   "metadata": {},
   "outputs": [],
   "source": []
  }
 ],
 "metadata": {
  "kernelspec": {
   "display_name": "Python 3 (ipykernel)",
   "language": "python",
   "name": "python3"
  },
  "language_info": {
   "codemirror_mode": {
    "name": "ipython",
    "version": 3
   },
   "file_extension": ".py",
   "mimetype": "text/x-python",
   "name": "python",
   "nbconvert_exporter": "python",
   "pygments_lexer": "ipython3",
   "version": "3.8.12"
  }
 },
 "nbformat": 4,
 "nbformat_minor": 5
}
