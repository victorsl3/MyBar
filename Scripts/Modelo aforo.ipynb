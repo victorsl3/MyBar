{
 "cells": [
  {
   "cell_type": "markdown",
   "id": "151c19b9-3efb-4752-adb0-12ee786d5f2e",
   "metadata": {},
   "source": [
    "# Importación de librerías y datos"
   ]
  },
  {
   "cell_type": "markdown",
   "id": "ebb8c41c-83a9-40c8-abda-d96874bda212",
   "metadata": {},
   "source": [
    "## Librerías"
   ]
  },
  {
   "cell_type": "code",
   "execution_count": 21,
   "id": "866b39c1-a9af-4cb0-bc59-bd2f23b778ee",
   "metadata": {},
   "outputs": [],
   "source": [
    "# Tratamiento de datos\n",
    "# ==============================================================================\n",
    "import numpy as np\n",
    "import pandas as pd\n",
    "\n",
    "# Gráficos\n",
    "# ==============================================================================\n",
    "import matplotlib.pyplot as plt\n",
    "plt.style.use('fivethirtyeight')\n",
    "plt.rcParams['lines.linewidth'] = 1.5\n",
    "%matplotlib inline\n",
    "\n",
    "# Configuración warnings\n",
    "# ==============================================================================\n",
    "import warnings\n",
    "#warnings.filterwarnings('ignore')\n",
    "\n",
    "# Fechas\n",
    "import calendar\n"
   ]
  },
  {
   "cell_type": "code",
   "execution_count": 24,
   "id": "866f206d-0c9a-418f-bcb7-74fe0d612d7d",
   "metadata": {},
   "outputs": [],
   "source": [
    "# Modelado\n",
    "# ==============================================================================\n",
    "from sklearn.model_selection import train_test_split\n",
    "from sklearn.ensemble import RandomForestRegressor\n",
    "from sklearn.tree import export_graphviz\n",
    "import pydot\n",
    "\n",
    "\n",
    "from joblib import dump, load"
   ]
  },
  {
   "cell_type": "markdown",
   "id": "40d47a77-baaf-4554-a626-36f5628d93de",
   "metadata": {},
   "source": [
    "## Carga de datos"
   ]
  },
  {
   "cell_type": "code",
   "execution_count": 25,
   "id": "8f3661f8-8e5f-42f1-9fa0-46ba776e5742",
   "metadata": {},
   "outputs": [],
   "source": [
    "path = 'PEATONES_2021.csv'\n",
    "datos = pd.read_csv(path, sep=';')"
   ]
  },
  {
   "cell_type": "code",
   "execution_count": 26,
   "id": "d7824855-32cb-448f-9f6d-99e45d200485",
   "metadata": {},
   "outputs": [
    {
     "data": {
      "text/html": [
       "<div>\n",
       "<style scoped>\n",
       "    .dataframe tbody tr th:only-of-type {\n",
       "        vertical-align: middle;\n",
       "    }\n",
       "\n",
       "    .dataframe tbody tr th {\n",
       "        vertical-align: top;\n",
       "    }\n",
       "\n",
       "    .dataframe thead th {\n",
       "        text-align: right;\n",
       "    }\n",
       "</style>\n",
       "<table border=\"1\" class=\"dataframe\">\n",
       "  <thead>\n",
       "    <tr style=\"text-align: right;\">\n",
       "      <th></th>\n",
       "      <th>FECHA</th>\n",
       "      <th>HORA</th>\n",
       "      <th>IDENTIFICADOR</th>\n",
       "      <th>PEATONES</th>\n",
       "      <th>NÚMERO_DISTRITO</th>\n",
       "      <th>DISTRITO</th>\n",
       "      <th>NOMBRE_VIAL</th>\n",
       "      <th>NÚMERO</th>\n",
       "      <th>CÓDIGO_POSTAL</th>\n",
       "      <th>OBSERVACIONES_DIRECCION</th>\n",
       "      <th>LATITUD</th>\n",
       "      <th>LONGITUD</th>\n",
       "    </tr>\n",
       "  </thead>\n",
       "  <tbody>\n",
       "    <tr>\n",
       "      <th>0</th>\n",
       "      <td>01/01/2021 0:00</td>\n",
       "      <td>0:00</td>\n",
       "      <td>PERM_PEA02_PM01</td>\n",
       "      <td>110.0</td>\n",
       "      <td>1</td>\n",
       "      <td>Centro</td>\n",
       "      <td>Calle Fuencarral</td>\n",
       "      <td>22</td>\n",
       "      <td>28004</td>\n",
       "      <td>Calle peatonal</td>\n",
       "      <td>40,42200905</td>\n",
       "      <td>-3,700891722</td>\n",
       "    </tr>\n",
       "    <tr>\n",
       "      <th>1</th>\n",
       "      <td>01/01/2021 0:00</td>\n",
       "      <td>0:00</td>\n",
       "      <td>PERM_PEA03_PM01</td>\n",
       "      <td>111.0</td>\n",
       "      <td>1</td>\n",
       "      <td>Centro</td>\n",
       "      <td>Calle San Bernardo</td>\n",
       "      <td>36</td>\n",
       "      <td>28015</td>\n",
       "      <td>Acera Pares</td>\n",
       "      <td>40,42380314</td>\n",
       "      <td>-3,707379398</td>\n",
       "    </tr>\n",
       "    <tr>\n",
       "      <th>2</th>\n",
       "      <td>01/01/2021 0:00</td>\n",
       "      <td>0:00</td>\n",
       "      <td>PERM_PEA04_PM01</td>\n",
       "      <td>15.0</td>\n",
       "      <td>1</td>\n",
       "      <td>Centro</td>\n",
       "      <td>Calle Hortaleza</td>\n",
       "      <td>18</td>\n",
       "      <td>28004</td>\n",
       "      <td>Acera Pares</td>\n",
       "      <td>40,42107227</td>\n",
       "      <td>-3,70049043</td>\n",
       "    </tr>\n",
       "    <tr>\n",
       "      <th>3</th>\n",
       "      <td>01/01/2021 0:00</td>\n",
       "      <td>0:00</td>\n",
       "      <td>PERM_PEA05_PM01</td>\n",
       "      <td>44.0</td>\n",
       "      <td>1</td>\n",
       "      <td>Centro</td>\n",
       "      <td>Carrera de San Jerónimo</td>\n",
       "      <td>6</td>\n",
       "      <td>28014</td>\n",
       "      <td>Acera Pares</td>\n",
       "      <td>40,41664098</td>\n",
       "      <td>-3,701246554</td>\n",
       "    </tr>\n",
       "    <tr>\n",
       "      <th>4</th>\n",
       "      <td>01/01/2021 0:00</td>\n",
       "      <td>0:00</td>\n",
       "      <td>PERM_PEA06_PM01</td>\n",
       "      <td>49.0</td>\n",
       "      <td>1</td>\n",
       "      <td>Centro</td>\n",
       "      <td>Calle Atocha</td>\n",
       "      <td>95</td>\n",
       "      <td>28012</td>\n",
       "      <td>Acera Impares</td>\n",
       "      <td>40,41110888</td>\n",
       "      <td>-3,696471467</td>\n",
       "    </tr>\n",
       "  </tbody>\n",
       "</table>\n",
       "</div>"
      ],
      "text/plain": [
       "             FECHA  HORA    IDENTIFICADOR  PEATONES  NÚMERO_DISTRITO DISTRITO  \\\n",
       "0  01/01/2021 0:00  0:00  PERM_PEA02_PM01     110.0                1   Centro   \n",
       "1  01/01/2021 0:00  0:00  PERM_PEA03_PM01     111.0                1   Centro   \n",
       "2  01/01/2021 0:00  0:00  PERM_PEA04_PM01      15.0                1   Centro   \n",
       "3  01/01/2021 0:00  0:00  PERM_PEA05_PM01      44.0                1   Centro   \n",
       "4  01/01/2021 0:00  0:00  PERM_PEA06_PM01      49.0                1   Centro   \n",
       "\n",
       "               NOMBRE_VIAL  NÚMERO  CÓDIGO_POSTAL OBSERVACIONES_DIRECCION  \\\n",
       "0         Calle Fuencarral      22          28004         Calle peatonal    \n",
       "1       Calle San Bernardo      36          28015             Acera Pares   \n",
       "2          Calle Hortaleza      18          28004            Acera Pares    \n",
       "3  Carrera de San Jerónimo       6          28014            Acera Pares    \n",
       "4             Calle Atocha      95          28012          Acera Impares    \n",
       "\n",
       "       LATITUD      LONGITUD  \n",
       "0  40,42200905  -3,700891722  \n",
       "1  40,42380314  -3,707379398  \n",
       "2  40,42107227   -3,70049043  \n",
       "3  40,41664098  -3,701246554  \n",
       "4  40,41110888  -3,696471467  "
      ]
     },
     "execution_count": 26,
     "metadata": {},
     "output_type": "execute_result"
    }
   ],
   "source": [
    "datos.head()"
   ]
  },
  {
   "cell_type": "markdown",
   "id": "85e7a471-7c0b-495b-92cf-917462c20bc7",
   "metadata": {},
   "source": [
    "# Preparación de los datos"
   ]
  },
  {
   "cell_type": "markdown",
   "id": "e4f5d91b-7a67-40c9-9e60-b02e79ad2a4c",
   "metadata": {},
   "source": [
    "## Fecha"
   ]
  },
  {
   "cell_type": "code",
   "execution_count": 27,
   "id": "2af16e08-7d94-4590-a436-6a45e365800a",
   "metadata": {},
   "outputs": [
    {
     "name": "stdout",
     "output_type": "stream",
     "text": [
      "0       2021-01-01 00:00:00\n",
      "1       2021-01-01 00:00:00\n",
      "2       2021-01-01 00:00:00\n",
      "3       2021-01-01 00:00:00\n",
      "4       2021-01-01 00:00:00\n",
      "                ...        \n",
      "82531   2021-06-30 23:00:00\n",
      "82532   2021-06-30 23:00:00\n",
      "82533   2021-06-30 23:00:00\n",
      "82534   2021-06-30 23:00:00\n",
      "82535   2021-06-30 23:00:00\n",
      "Name: FECHA, Length: 82536, dtype: datetime64[ns]\n"
     ]
    }
   ],
   "source": [
    "# datos['FECHA'] = pd.to_datetime(datos['FECHA'])\n",
    "datos['FECHA'] = datos['FECHA'].replace(\"-\",\"/\")\n",
    "datos['FECHA'] = pd.to_datetime(datos['FECHA'], format=\"%d/%m/%Y %H:%M\")\n",
    "print(datos['FECHA'])"
   ]
  },
  {
   "cell_type": "markdown",
   "id": "d818fd2e-129d-4575-a4ea-ccc9178a3f7d",
   "metadata": {},
   "source": [
    "## Valores vacíos"
   ]
  },
  {
   "cell_type": "code",
   "execution_count": 36,
   "id": "b95cb023-d6e2-47b1-8623-88bba9a35e79",
   "metadata": {},
   "outputs": [
    {
     "data": {
      "text/plain": [
       "FECHA                      False\n",
       "HORA                       False\n",
       "IDENTIFICADOR              False\n",
       "PEATONES                   False\n",
       "NÚMERO_DISTRITO            False\n",
       "DISTRITO                   False\n",
       "NOMBRE_VIAL                False\n",
       "NÚMERO                     False\n",
       "CÓDIGO_POSTAL              False\n",
       "OBSERVACIONES_DIRECCION    False\n",
       "LATITUD                    False\n",
       "LONGITUD                   False\n",
       "dia_semana                 False\n",
       "mes                        False\n",
       "dtype: bool"
      ]
     },
     "execution_count": 36,
     "metadata": {},
     "output_type": "execute_result"
    }
   ],
   "source": [
    "datos.isna().any()"
   ]
  },
  {
   "cell_type": "markdown",
   "id": "99af99f9-ea43-4e46-b942-4491c1d220b6",
   "metadata": {},
   "source": [
    "## Descomposición de fechas"
   ]
  },
  {
   "cell_type": "code",
   "execution_count": null,
   "id": "b06f713e-2984-4cd8-b343-e303f1347b68",
   "metadata": {},
   "outputs": [],
   "source": [
    "dia_semana=[]\n",
    "mes=[]\n",
    "for n in datos[\"FECHA\"]:\n",
    "    dia_semana.append(calendar.day_name[n.weekday()])\n",
    "    mes.append(calendar.month_name[n.month])\n",
    "datos[\"dia_semana\"]=dia_semana\n",
    "datos[\"mes\"]=mes\n",
    "datos.head()"
   ]
  },
  {
   "cell_type": "markdown",
   "id": "c3bbe77c-52a6-4b8a-beaf-e8667ce9a71f",
   "metadata": {},
   "source": [
    "## Selección de columnas"
   ]
  },
  {
   "cell_type": "code",
   "execution_count": 38,
   "id": "e10d81af-498d-4106-8542-9c97914d12b2",
   "metadata": {},
   "outputs": [
    {
     "data": {
      "text/html": [
       "<div>\n",
       "<style scoped>\n",
       "    .dataframe tbody tr th:only-of-type {\n",
       "        vertical-align: middle;\n",
       "    }\n",
       "\n",
       "    .dataframe tbody tr th {\n",
       "        vertical-align: top;\n",
       "    }\n",
       "\n",
       "    .dataframe thead th {\n",
       "        text-align: right;\n",
       "    }\n",
       "</style>\n",
       "<table border=\"1\" class=\"dataframe\">\n",
       "  <thead>\n",
       "    <tr style=\"text-align: right;\">\n",
       "      <th></th>\n",
       "      <th>HORA</th>\n",
       "      <th>PEATONES</th>\n",
       "      <th>CÓDIGO_POSTAL</th>\n",
       "      <th>dia_semana</th>\n",
       "      <th>mes</th>\n",
       "    </tr>\n",
       "  </thead>\n",
       "  <tbody>\n",
       "    <tr>\n",
       "      <th>0</th>\n",
       "      <td>0:00</td>\n",
       "      <td>110</td>\n",
       "      <td>28004</td>\n",
       "      <td>Friday</td>\n",
       "      <td>January</td>\n",
       "    </tr>\n",
       "    <tr>\n",
       "      <th>1</th>\n",
       "      <td>0:00</td>\n",
       "      <td>111</td>\n",
       "      <td>28015</td>\n",
       "      <td>Friday</td>\n",
       "      <td>January</td>\n",
       "    </tr>\n",
       "    <tr>\n",
       "      <th>2</th>\n",
       "      <td>0:00</td>\n",
       "      <td>15</td>\n",
       "      <td>28004</td>\n",
       "      <td>Friday</td>\n",
       "      <td>January</td>\n",
       "    </tr>\n",
       "    <tr>\n",
       "      <th>3</th>\n",
       "      <td>0:00</td>\n",
       "      <td>44</td>\n",
       "      <td>28014</td>\n",
       "      <td>Friday</td>\n",
       "      <td>January</td>\n",
       "    </tr>\n",
       "    <tr>\n",
       "      <th>4</th>\n",
       "      <td>0:00</td>\n",
       "      <td>49</td>\n",
       "      <td>28012</td>\n",
       "      <td>Friday</td>\n",
       "      <td>January</td>\n",
       "    </tr>\n",
       "  </tbody>\n",
       "</table>\n",
       "</div>"
      ],
      "text/plain": [
       "   HORA  PEATONES  CÓDIGO_POSTAL dia_semana      mes\n",
       "0  0:00       110          28004     Friday  January\n",
       "1  0:00       111          28015     Friday  January\n",
       "2  0:00        15          28004     Friday  January\n",
       "3  0:00        44          28014     Friday  January\n",
       "4  0:00        49          28012     Friday  January"
      ]
     },
     "execution_count": 38,
     "metadata": {},
     "output_type": "execute_result"
    }
   ],
   "source": [
    "df=datos.iloc[:, [1,3,8,12,13]] \n",
    "df.head()"
   ]
  },
  {
   "cell_type": "markdown",
   "id": "be826715-ce38-492d-9b44-7fa0f502046e",
   "metadata": {},
   "source": [
    "## Codificación One-Hot"
   ]
  },
  {
   "cell_type": "code",
   "execution_count": 43,
   "id": "0e9fb15b-63ab-4aef-8053-5990e86b4f9e",
   "metadata": {},
   "outputs": [
    {
     "data": {
      "text/html": [
       "<div>\n",
       "<style scoped>\n",
       "    .dataframe tbody tr th:only-of-type {\n",
       "        vertical-align: middle;\n",
       "    }\n",
       "\n",
       "    .dataframe tbody tr th {\n",
       "        vertical-align: top;\n",
       "    }\n",
       "\n",
       "    .dataframe thead th {\n",
       "        text-align: right;\n",
       "    }\n",
       "</style>\n",
       "<table border=\"1\" class=\"dataframe\">\n",
       "  <thead>\n",
       "    <tr style=\"text-align: right;\">\n",
       "      <th></th>\n",
       "      <th>PEATONES</th>\n",
       "      <th>CÓDIGO_POSTAL</th>\n",
       "      <th>HORA_0:00</th>\n",
       "      <th>HORA_10:00</th>\n",
       "      <th>HORA_11:00</th>\n",
       "      <th>HORA_12:00</th>\n",
       "      <th>HORA_13:00</th>\n",
       "      <th>HORA_14:00</th>\n",
       "      <th>HORA_15:00</th>\n",
       "      <th>HORA_16:00</th>\n",
       "      <th>...</th>\n",
       "      <th>dia_semana_Sunday</th>\n",
       "      <th>dia_semana_Thursday</th>\n",
       "      <th>dia_semana_Tuesday</th>\n",
       "      <th>dia_semana_Wednesday</th>\n",
       "      <th>mes_April</th>\n",
       "      <th>mes_February</th>\n",
       "      <th>mes_January</th>\n",
       "      <th>mes_June</th>\n",
       "      <th>mes_March</th>\n",
       "      <th>mes_May</th>\n",
       "    </tr>\n",
       "  </thead>\n",
       "  <tbody>\n",
       "    <tr>\n",
       "      <th>0</th>\n",
       "      <td>110</td>\n",
       "      <td>28004</td>\n",
       "      <td>1</td>\n",
       "      <td>0</td>\n",
       "      <td>0</td>\n",
       "      <td>0</td>\n",
       "      <td>0</td>\n",
       "      <td>0</td>\n",
       "      <td>0</td>\n",
       "      <td>0</td>\n",
       "      <td>...</td>\n",
       "      <td>0</td>\n",
       "      <td>0</td>\n",
       "      <td>0</td>\n",
       "      <td>0</td>\n",
       "      <td>0</td>\n",
       "      <td>0</td>\n",
       "      <td>1</td>\n",
       "      <td>0</td>\n",
       "      <td>0</td>\n",
       "      <td>0</td>\n",
       "    </tr>\n",
       "    <tr>\n",
       "      <th>1</th>\n",
       "      <td>111</td>\n",
       "      <td>28015</td>\n",
       "      <td>1</td>\n",
       "      <td>0</td>\n",
       "      <td>0</td>\n",
       "      <td>0</td>\n",
       "      <td>0</td>\n",
       "      <td>0</td>\n",
       "      <td>0</td>\n",
       "      <td>0</td>\n",
       "      <td>...</td>\n",
       "      <td>0</td>\n",
       "      <td>0</td>\n",
       "      <td>0</td>\n",
       "      <td>0</td>\n",
       "      <td>0</td>\n",
       "      <td>0</td>\n",
       "      <td>1</td>\n",
       "      <td>0</td>\n",
       "      <td>0</td>\n",
       "      <td>0</td>\n",
       "    </tr>\n",
       "    <tr>\n",
       "      <th>2</th>\n",
       "      <td>15</td>\n",
       "      <td>28004</td>\n",
       "      <td>1</td>\n",
       "      <td>0</td>\n",
       "      <td>0</td>\n",
       "      <td>0</td>\n",
       "      <td>0</td>\n",
       "      <td>0</td>\n",
       "      <td>0</td>\n",
       "      <td>0</td>\n",
       "      <td>...</td>\n",
       "      <td>0</td>\n",
       "      <td>0</td>\n",
       "      <td>0</td>\n",
       "      <td>0</td>\n",
       "      <td>0</td>\n",
       "      <td>0</td>\n",
       "      <td>1</td>\n",
       "      <td>0</td>\n",
       "      <td>0</td>\n",
       "      <td>0</td>\n",
       "    </tr>\n",
       "    <tr>\n",
       "      <th>3</th>\n",
       "      <td>44</td>\n",
       "      <td>28014</td>\n",
       "      <td>1</td>\n",
       "      <td>0</td>\n",
       "      <td>0</td>\n",
       "      <td>0</td>\n",
       "      <td>0</td>\n",
       "      <td>0</td>\n",
       "      <td>0</td>\n",
       "      <td>0</td>\n",
       "      <td>...</td>\n",
       "      <td>0</td>\n",
       "      <td>0</td>\n",
       "      <td>0</td>\n",
       "      <td>0</td>\n",
       "      <td>0</td>\n",
       "      <td>0</td>\n",
       "      <td>1</td>\n",
       "      <td>0</td>\n",
       "      <td>0</td>\n",
       "      <td>0</td>\n",
       "    </tr>\n",
       "    <tr>\n",
       "      <th>4</th>\n",
       "      <td>49</td>\n",
       "      <td>28012</td>\n",
       "      <td>1</td>\n",
       "      <td>0</td>\n",
       "      <td>0</td>\n",
       "      <td>0</td>\n",
       "      <td>0</td>\n",
       "      <td>0</td>\n",
       "      <td>0</td>\n",
       "      <td>0</td>\n",
       "      <td>...</td>\n",
       "      <td>0</td>\n",
       "      <td>0</td>\n",
       "      <td>0</td>\n",
       "      <td>0</td>\n",
       "      <td>0</td>\n",
       "      <td>0</td>\n",
       "      <td>1</td>\n",
       "      <td>0</td>\n",
       "      <td>0</td>\n",
       "      <td>0</td>\n",
       "    </tr>\n",
       "  </tbody>\n",
       "</table>\n",
       "<p>5 rows × 39 columns</p>\n",
       "</div>"
      ],
      "text/plain": [
       "   PEATONES  CÓDIGO_POSTAL  HORA_0:00  HORA_10:00  HORA_11:00  HORA_12:00  \\\n",
       "0       110          28004          1           0           0           0   \n",
       "1       111          28015          1           0           0           0   \n",
       "2        15          28004          1           0           0           0   \n",
       "3        44          28014          1           0           0           0   \n",
       "4        49          28012          1           0           0           0   \n",
       "\n",
       "   HORA_13:00  HORA_14:00  HORA_15:00  HORA_16:00  ...  dia_semana_Sunday  \\\n",
       "0           0           0           0           0  ...                  0   \n",
       "1           0           0           0           0  ...                  0   \n",
       "2           0           0           0           0  ...                  0   \n",
       "3           0           0           0           0  ...                  0   \n",
       "4           0           0           0           0  ...                  0   \n",
       "\n",
       "   dia_semana_Thursday  dia_semana_Tuesday  dia_semana_Wednesday  mes_April  \\\n",
       "0                    0                   0                     0          0   \n",
       "1                    0                   0                     0          0   \n",
       "2                    0                   0                     0          0   \n",
       "3                    0                   0                     0          0   \n",
       "4                    0                   0                     0          0   \n",
       "\n",
       "   mes_February  mes_January  mes_June  mes_March  mes_May  \n",
       "0             0            1         0          0        0  \n",
       "1             0            1         0          0        0  \n",
       "2             0            1         0          0        0  \n",
       "3             0            1         0          0        0  \n",
       "4             0            1         0          0        0  \n",
       "\n",
       "[5 rows x 39 columns]"
      ]
     },
     "execution_count": 43,
     "metadata": {},
     "output_type": "execute_result"
    }
   ],
   "source": [
    "df = pd.get_dummies(df)\n",
    "df.head()"
   ]
  },
  {
   "cell_type": "markdown",
   "id": "eebbe5c9-4c18-4ef1-9830-10ec86db4fc0",
   "metadata": {},
   "source": [
    "## Resto de tipos"
   ]
  },
  {
   "cell_type": "code",
   "execution_count": 47,
   "id": "953326f9-b488-4aaf-a3c7-bc3cb32201ab",
   "metadata": {},
   "outputs": [
    {
     "data": {
      "text/plain": [
       "PEATONES                int32\n",
       "CÓDIGO_POSTAL           int64\n",
       "HORA_0:00               uint8\n",
       "HORA_10:00              uint8\n",
       "HORA_11:00              uint8\n",
       "HORA_12:00              uint8\n",
       "HORA_13:00              uint8\n",
       "HORA_14:00              uint8\n",
       "HORA_15:00              uint8\n",
       "HORA_16:00              uint8\n",
       "HORA_17:00              uint8\n",
       "HORA_18:00              uint8\n",
       "HORA_19:00              uint8\n",
       "HORA_1:00               uint8\n",
       "HORA_20:00              uint8\n",
       "HORA_21:00              uint8\n",
       "HORA_22:00              uint8\n",
       "HORA_23:00              uint8\n",
       "HORA_2:00               uint8\n",
       "HORA_3:00               uint8\n",
       "HORA_4:00               uint8\n",
       "HORA_5:00               uint8\n",
       "HORA_6:00               uint8\n",
       "HORA_7:00               uint8\n",
       "HORA_8:00               uint8\n",
       "HORA_9:00               uint8\n",
       "dia_semana_Friday       uint8\n",
       "dia_semana_Monday       uint8\n",
       "dia_semana_Saturday     uint8\n",
       "dia_semana_Sunday       uint8\n",
       "dia_semana_Thursday     uint8\n",
       "dia_semana_Tuesday      uint8\n",
       "dia_semana_Wednesday    uint8\n",
       "mes_April               uint8\n",
       "mes_February            uint8\n",
       "mes_January             uint8\n",
       "mes_June                uint8\n",
       "mes_March               uint8\n",
       "mes_May                 uint8\n",
       "dtype: object"
      ]
     },
     "execution_count": 47,
     "metadata": {},
     "output_type": "execute_result"
    }
   ],
   "source": [
    "df= df.infer_objects()\n",
    "df.dtypes"
   ]
  },
  {
   "cell_type": "code",
   "execution_count": 48,
   "id": "923896ec-8290-458c-acb9-563f10674e56",
   "metadata": {},
   "outputs": [
    {
     "data": {
      "text/plain": [
       "PEATONES                int32\n",
       "CÓDIGO_POSTAL           int64\n",
       "HORA_0:00               uint8\n",
       "HORA_10:00              uint8\n",
       "HORA_11:00              uint8\n",
       "HORA_12:00              uint8\n",
       "HORA_13:00              uint8\n",
       "HORA_14:00              uint8\n",
       "HORA_15:00              uint8\n",
       "HORA_16:00              uint8\n",
       "HORA_17:00              uint8\n",
       "HORA_18:00              uint8\n",
       "HORA_19:00              uint8\n",
       "HORA_1:00               uint8\n",
       "HORA_20:00              uint8\n",
       "HORA_21:00              uint8\n",
       "HORA_22:00              uint8\n",
       "HORA_23:00              uint8\n",
       "HORA_2:00               uint8\n",
       "HORA_3:00               uint8\n",
       "HORA_4:00               uint8\n",
       "HORA_5:00               uint8\n",
       "HORA_6:00               uint8\n",
       "HORA_7:00               uint8\n",
       "HORA_8:00               uint8\n",
       "HORA_9:00               uint8\n",
       "dia_semana_Friday       uint8\n",
       "dia_semana_Monday       uint8\n",
       "dia_semana_Saturday     uint8\n",
       "dia_semana_Sunday       uint8\n",
       "dia_semana_Thursday     uint8\n",
       "dia_semana_Tuesday      uint8\n",
       "dia_semana_Wednesday    uint8\n",
       "mes_April               uint8\n",
       "mes_February            uint8\n",
       "mes_January             uint8\n",
       "mes_June                uint8\n",
       "mes_March               uint8\n",
       "mes_May                 uint8\n",
       "dtype: object"
      ]
     },
     "execution_count": 48,
     "metadata": {},
     "output_type": "execute_result"
    }
   ],
   "source": [
    "df[\"PEATONES\"]=df[\"PEATONES\"].astype(int)\n",
    "df.dtypes"
   ]
  },
  {
   "cell_type": "markdown",
   "id": "314ca9e2-7bcd-4651-a936-2e75b16d171c",
   "metadata": {},
   "source": [
    "## Tratamiento de la variable objetivo"
   ]
  },
  {
   "cell_type": "code",
   "execution_count": 49,
   "id": "658fc753-c8d0-4c67-be52-e15aa8c1c552",
   "metadata": {},
   "outputs": [
    {
     "data": {
      "text/plain": [
       "count    82536.000000\n",
       "mean       170.277297\n",
       "std        199.539001\n",
       "min          0.000000\n",
       "25%         21.000000\n",
       "50%        100.000000\n",
       "75%        245.000000\n",
       "max        999.000000\n",
       "Name: PEATONES, dtype: float64"
      ]
     },
     "execution_count": 49,
     "metadata": {},
     "output_type": "execute_result"
    },
    {
     "data": {
      "image/png": "[encoded data removed]",
      "text/plain": [
       "<Figure size 432x288 with 1 Axes>"
      ]
     },
     "metadata": {
      "needs_background": "light"
     },
     "output_type": "display_data"
    }
   ],
   "source": [
    "plt.boxplot(df[\"PEATONES\"])\n",
    "df[\"PEATONES\"].describe()"
   ]
  },
  {
   "cell_type": "markdown",
   "id": "18a7be39-1f2d-4651-b241-c38f6b58c939",
   "metadata": {},
   "source": [
    "Estimamos dos poblaciones: aforos por encima y por de bajo de 600 peatones, por lo que se crearán dos modelos distintos"
   ]
  },
  {
   "cell_type": "code",
   "execution_count": 53,
   "id": "6cd4aa87-9024-4767-898d-d807e4561d1c",
   "metadata": {},
   "outputs": [],
   "source": [
    "pob1=df[df['PEATONES']<600]\n",
    "pob2=df[df['PEATONES']>=600]"
   ]
  },
  {
   "cell_type": "markdown",
   "id": "e32fdeb6-df5d-46b8-8719-5a632b3eddac",
   "metadata": {},
   "source": [
    "## Selección etiqueta y conversión a matriz"
   ]
  },
  {
   "cell_type": "code",
   "execution_count": 55,
   "id": "4792100b-60ca-4fcd-afc2-f330e70de487",
   "metadata": {},
   "outputs": [],
   "source": [
    "#pob1\n",
    "# Label\n",
    "pob1_labels = np.array(pob1['PEATONES'])\n",
    "# Eliminamos el label\n",
    "pob1= pob1.drop('PEATONES', axis = 1)\n",
    "# Nombres columnas\n",
    "pob_1feature_list = list(pob1.columns)\n",
    "# Convertimos en matriz\n",
    "pob1 = np.array(pob1)\n",
    "\n",
    "#pob2\n",
    "# Label\n",
    "pob2_labels = np.array(pob2['PEATONES'])\n",
    "# Eliminamos el label\n",
    "pob2= pob2.drop('PEATONES', axis = 1)\n",
    "# Nombres columnas\n",
    "pob_2feature_list = list(pob2.columns)\n",
    "# Convertimos en matriz\n",
    "pob2 = np.array(pob2)"
   ]
  },
  {
   "cell_type": "markdown",
   "id": "3495ff99-a810-40ad-a8d2-1d810bf3615f",
   "metadata": {},
   "source": [
    "## Train y test"
   ]
  },
  {
   "cell_type": "code",
   "execution_count": 56,
   "id": "906f5f07-106d-45b7-b5b6-6c2f6e7fac30",
   "metadata": {},
   "outputs": [],
   "source": [
    "#pob1\n",
    "p1_train_features, p1_test_features, p1_train_labels, p1_test_labels = train_test_split(pob1, pob1_labels, test_size = 0.2, random_state = 42)\n",
    "#pob2\n",
    "p2_train_features, p2_test_features, p2_train_labels, p2_test_labels = train_test_split(pob2, pob2_labels, test_size = 0.2, random_state = 42)"
   ]
  },
  {
   "cell_type": "code",
   "execution_count": 60,
   "id": "048aca4b-eeb8-41c7-b1a0-af96612f7d26",
   "metadata": {},
   "outputs": [
    {
     "name": "stdout",
     "output_type": "stream",
     "text": [
      "Población 1:\n",
      "Training Features tamaño: (62452, 38)\n",
      "Training Labels tamaño: (62452,)\n",
      "Testing Features tamaño: (15614, 38)\n",
      "Testing Labels tamaño: (15614,)\n",
      "\n",
      "Población 2:\n",
      "Training Features tamaño: (3576, 38)\n",
      "Training Labels tamaño: (3576,)\n",
      "Testing Features tamaño: (894, 38)\n",
      "Testing Labels tamaño: (894,)\n"
     ]
    }
   ],
   "source": [
    "print('Población 1:')\n",
    "print('Training Features tamaño:', p1_train_features.shape)\n",
    "print('Training Labels tamaño:', p1_train_labels.shape)\n",
    "print('Testing Features tamaño:', p1_test_features.shape)\n",
    "print('Testing Labels tamaño:', p1_test_labels.shape)\n",
    "print('\\nPoblación 2:')\n",
    "print('Training Features tamaño:', p2_train_features.shape)\n",
    "print('Training Labels tamaño:', p2_train_labels.shape)\n",
    "print('Testing Features tamaño:', p2_test_features.shape)\n",
    "print('Testing Labels tamaño:', p2_test_labels.shape)"
   ]
  },
  {
   "cell_type": "markdown",
   "id": "1e500f35-a5e7-4e13-bd8e-6dc012fd0b2e",
   "metadata": {},
   "source": [
    "# Entrenamiento"
   ]
  },
  {
   "cell_type": "code",
   "execution_count": 61,
   "id": "f9d060b1-1b9e-42ea-a361-a9e4e13fd760",
   "metadata": {},
   "outputs": [],
   "source": [
    "# Modelo pob1\n",
    "pob1_rf = RandomForestRegressor(n_estimators = 3000, random_state = 42)\n",
    "# Entrenamiento\n",
    "pob1_rf.fit(p1_train_features, p1_train_labels);\n",
    "\n",
    "# Modelo pob2\n",
    "pob2_rf = RandomForestRegressor(n_estimators = 1000, random_state = 42)\n",
    "# Entrenamiento\n",
    "pob2_rf.fit(p2_train_features, p2_train_labels);"
   ]
  },
  {
   "cell_type": "code",
   "execution_count": 63,
   "id": "b9621727-828e-42e3-97fa-c4655eb3b5b9",
   "metadata": {},
   "outputs": [
    {
     "name": "stdout",
     "output_type": "stream",
     "text": [
      "Población 1 (menores a 600): --> Mean Absolute Error: 80.77 peatones.\n",
      "Población 2 (mayores a 600): --> Mean Absolute Error: 88.75 peatones.\n"
     ]
    }
   ],
   "source": [
    "#pob1\n",
    "# Testeo\n",
    "p1_predictions = pob1_rf.predict(p1_test_features)\n",
    "# Cálculo de errores absolutos\n",
    "p1_errors = abs(p1_predictions - p1_test_labels)\n",
    "# MAE\n",
    "print('Población 1 (menores a 600): --> Mean Absolute Error:', round(np.mean(p1_errors), 2), 'peatones.')\n",
    "\n",
    "#pob2\n",
    "# Testeo\n",
    "p2_predictions = pob2_rf.predict(p2_test_features)\n",
    "# Cálculo de errores absolutos\n",
    "p2_errors = abs(p2_predictions - p2_test_labels)\n",
    "# MAE\n",
    "print('Población 2 (mayores a 600): --> Mean Absolute Error:', round(np.mean(p2_errors), 2), 'peatones.')"
   ]
  }
 ],
 "metadata": {
  "kernelspec": {
   "display_name": "Python 3 (ipykernel)",
   "language": "python",
   "name": "python3"
  },
  "language_info": {
   "codemirror_mode": {
    "name": "ipython",
    "version": 3
   },
   "file_extension": ".py",
   "mimetype": "text/x-python",
   "name": "python",
   "nbconvert_exporter": "python",
   "pygments_lexer": "ipython3",
   "version": "3.8.12"
  }
 },
 "nbformat": 4,
 "nbformat_minor": 5
}
