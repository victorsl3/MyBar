{
 "cells": [
  {
   "cell_type": "code",
   "execution_count": 3,
   "id": "52cd3864-6669-4d04-ac3c-c56851616507",
   "metadata": {},
   "outputs": [
    {
     "name": "stdout",
     "output_type": "stream",
     "text": [
      "{'api_key_private': 'pri_974ab3b28c6a439e8fc69aefbb661ddd', 'api_key_public': 'pub_907732ff1efa47448904e64f194d92c9', 'status': 'OK', 'active': True, 'credits_forecast': -429, 'credits_query': 197, 'valid': True, 'restricted_website_public': '*', 'restricted_website_private': '*'}\n"
     ]
    }
   ],
   "source": [
    "import requests\n",
    "\n",
    "api_key_private=\"pri_974ab3b28c6a439e8fc69aefbb661ddd\"\n",
    "api_key_public=\"pub_907732ff1efa47448904e64f194d92c9\"\n",
    "url = \"https://besttime.app/api/v1/keys/\"+api_key_private\n",
    "\n",
    "response = requests.request(\"GET\", url)\n",
    "\n",
    "print(response.json())"
   ]
  },
  {
   "cell_type": "code",
   "execution_count": 7,
   "id": "3e1bc168-dd5d-4937-b193-3fd440c8c869",
   "metadata": {},
   "outputs": [
    {
     "name": "stdout",
     "output_type": "stream",
     "text": [
      "{'message': 'Error: API forecast quota reached. Please subscribe to continue using the API.', 'status': 'error'}\n"
     ]
    }
   ],
   "source": [
    "url = \"https://besttime.app/api/v1/forecasts\"\n",
    "\n",
    "params = {\n",
    "    'api_key_private': api_key_private,\n",
    "    'venue_name': 'Lambar',\n",
    "    'venue_address': 'Madrid, Spain'\n",
    "}\n",
    "\n",
    "response = requests.request(\"POST\", url, params=params)\n",
    "print(response.json())"
   ]
  },
  {
   "cell_type": "code",
   "execution_count": null,
   "id": "0db09903-ca59-44cd-82c6-858c7bf82a94",
   "metadata": {},
   "outputs": [],
   "source": []
  }
 ],
 "metadata": {
  "kernelspec": {
   "display_name": "Python 3 (ipykernel)",
   "language": "python",
   "name": "python3"
  },
  "language_info": {
   "codemirror_mode": {
    "name": "ipython",
    "version": 3
   },
   "file_extension": ".py",
   "mimetype": "text/x-python",
   "name": "python",
   "nbconvert_exporter": "python",
   "pygments_lexer": "ipython3",
   "version": "3.8.12"
  }
 },
 "nbformat": 4,
 "nbformat_minor": 5
}
